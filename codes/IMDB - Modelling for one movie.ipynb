{
 "cells": [
  {
   "cell_type": "markdown",
   "metadata": {},
   "source": [
    "## Detecting Spoilers with IMDB dataset\n",
    "- To build a classification model with high sensitivity and specificity to detect spoilers in movie reviews."
   ]
  },
  {
   "cell_type": "code",
   "execution_count": 2,
   "metadata": {},
   "outputs": [],
   "source": [
    "import pandas as pd\n",
    "import seaborn as sns\n",
    "import matplotlib.pyplot as plt\n",
    "import re\n",
    "import datetime\n",
    "import numpy as np\n",
    "from collections import Counter\n",
    "import seaborn as sns\n",
    "from nltk.corpus import stopwords\n",
    "from nltk.stem import WordNetLemmatizer\n",
    "from nltk.tokenize import RegexpTokenizer\n",
    "from sklearn.feature_extraction.text import CountVectorizer, TfidfVectorizer\n",
    "from sklearn.linear_model import LogisticRegression\n",
    "from sklearn.metrics import confusion_matrix, roc_auc_score, accuracy_score, f1_score, classification_report, make_scorer, precision_score, recall_score\n",
    "from sklearn.model_selection import GridSearchCV, train_test_split, RandomizedSearchCV, StratifiedKFold\n",
    "from sklearn.svm import SVC\n",
    "from sklearn.pipeline import Pipeline\n",
    "from sklearn.naive_bayes import MultinomialNB, ComplementNB\n",
    "from bs4 import BeautifulSoup\n",
    "from wordcloud import WordCloud, STOPWORDS, ImageColorGenerator\n",
    "from PIL import Image\n",
    "from sklearn.metrics.pairwise import cosine_similarity\n",
    "from sklearn.ensemble import RandomForestClassifier\n",
    "from xgboost import XGBClassifier\n",
    "import spacy\n",
    "import en_core_web_sm"
   ]
  },
  {
   "cell_type": "markdown",
   "metadata": {},
   "source": [
    "### Extracting top movie with the most reviews"
   ]
  },
  {
   "cell_type": "code",
   "execution_count": 218,
   "metadata": {},
   "outputs": [],
   "source": [
    "movie_cleaned = pd.read_csv('../IMDB/movie_cleaned.csv')\n",
    "review_cleaned = pd.read_csv('../IMDB/review_cleaned.csv')\n",
    "movie_title_cleaned = pd.read_csv('../IMDB/movie_titles_cleaned.csv')\n",
    "data = pd.merge(review_cleaned, movie_cleaned, on='movie_id')\n",
    "df = pd.merge(data, movie_title_cleaned, on='movie_id')"
   ]
  },
  {
   "cell_type": "code",
   "execution_count": 220,
   "metadata": {
    "scrolled": true
   },
   "outputs": [],
   "source": [
    "list_movies = list(df['movie_title'].value_counts()[:1].index)\n",
    "one_movie = df[df['movie_title'].isin(list_movies)]\n",
    "one_movie.reset_index(drop=True, inplace=True)"
   ]
  },
  {
   "cell_type": "code",
   "execution_count": 221,
   "metadata": {},
   "outputs": [
    {
     "data": {
      "text/plain": [
       "0    3363\n",
       "1    1482\n",
       "Name: is_spoiler, dtype: int64"
      ]
     },
     "execution_count": 221,
     "metadata": {},
     "output_type": "execute_result"
    }
   ],
   "source": [
    "one_movie['is_spoiler'].value_counts()"
   ]
  },
  {
   "cell_type": "code",
   "execution_count": 6,
   "metadata": {},
   "outputs": [
    {
     "data": {
      "text/plain": [
       "0    0.694118\n",
       "1    0.305882\n",
       "Name: is_spoiler, dtype: float64"
      ]
     },
     "execution_count": 6,
     "metadata": {},
     "output_type": "execute_result"
    }
   ],
   "source": [
    "one_movie['is_spoiler'].value_counts(normalize=True)"
   ]
  },
  {
   "cell_type": "markdown",
   "metadata": {},
   "source": [
    "Our dataset is slightly imbalanced but not to the extend that we have to smote them"
   ]
  },
  {
   "cell_type": "code",
   "execution_count": 7,
   "metadata": {},
   "outputs": [],
   "source": [
    "X_one = one_movie[['review']]\n",
    "y_one = one_movie['is_spoiler']"
   ]
  },
  {
   "cell_type": "code",
   "execution_count": 9,
   "metadata": {},
   "outputs": [],
   "source": [
    "X_one_train, X_one_test, y_one_train, y_one_test = train_test_split(X_one, y_one, stratify=y_one)"
   ]
  },
  {
   "cell_type": "markdown",
   "metadata": {},
   "source": [
    "### Cleaning Train, Test and plot dataset"
   ]
  },
  {
   "cell_type": "code",
   "execution_count": 10,
   "metadata": {},
   "outputs": [],
   "source": [
    "sp = spacy.load('en_core_web_sm')\n",
    "all_stopwords = sp.Defaults.stop_words\n",
    "\n",
    "def review_to_words(reviews):\n",
    "        \n",
    "    letters_only = re.sub(\"[^a-zA-Z]\", \" \", reviews)\n",
    "    \n",
    "    words = letters_only.lower().split()\n",
    "    \n",
    "    stops = all_stopwords\n",
    "    meaningful_words = [w for w in words if not w in stops]\n",
    "\n",
    "    lemmatizer = WordNetLemmatizer()\n",
    "    tokens_lem = [lemmatizer.lemmatize(i) for i in meaningful_words]\n",
    "\n",
    "    return(\" \".join(tokens_lem))"
   ]
  },
  {
   "cell_type": "code",
   "execution_count": 11,
   "metadata": {},
   "outputs": [
    {
     "name": "stdout",
     "output_type": "stream",
     "text": [
      "There are 4845 posts.\n"
     ]
    }
   ],
   "source": [
    "X_one_train_cleaned = []\n",
    "X_one_test_cleaned = []\n",
    "total_reviews = one_movie.shape[0]\n",
    "print(f'There are {total_reviews} posts.')"
   ]
  },
  {
   "cell_type": "code",
   "execution_count": 12,
   "metadata": {
    "scrolled": true
   },
   "outputs": [
    {
     "name": "stdout",
     "output_type": "stream",
     "text": [
      "Cleaning and parsing the training set reviews...\n",
      "Posts 100 of 4845.\n",
      "Posts 200 of 4845.\n",
      "Posts 300 of 4845.\n",
      "Posts 400 of 4845.\n",
      "Posts 500 of 4845.\n",
      "Posts 600 of 4845.\n",
      "Posts 700 of 4845.\n",
      "Posts 800 of 4845.\n",
      "Posts 900 of 4845.\n",
      "Posts 1000 of 4845.\n",
      "Posts 1100 of 4845.\n",
      "Posts 1200 of 4845.\n",
      "Posts 1300 of 4845.\n",
      "Posts 1400 of 4845.\n",
      "Posts 1500 of 4845.\n",
      "Posts 1600 of 4845.\n",
      "Posts 1700 of 4845.\n",
      "Posts 1800 of 4845.\n",
      "Posts 1900 of 4845.\n",
      "Posts 2000 of 4845.\n",
      "Posts 2100 of 4845.\n",
      "Posts 2200 of 4845.\n",
      "Posts 2300 of 4845.\n",
      "Posts 2400 of 4845.\n",
      "Posts 2500 of 4845.\n",
      "Posts 2600 of 4845.\n",
      "Posts 2700 of 4845.\n",
      "Posts 2800 of 4845.\n",
      "Posts 2900 of 4845.\n",
      "Posts 3000 of 4845.\n",
      "Posts 3100 of 4845.\n",
      "Posts 3200 of 4845.\n",
      "Posts 3300 of 4845.\n",
      "Posts 3400 of 4845.\n",
      "Posts 3500 of 4845.\n",
      "Posts 3600 of 4845.\n",
      "Cleaning and parsing the training set reviews...\n",
      "Posts 100 of 4845.\n",
      "Posts 200 of 4845.\n",
      "Posts 300 of 4845.\n",
      "Posts 400 of 4845.\n",
      "Posts 500 of 4845.\n",
      "Posts 600 of 4845.\n",
      "Posts 700 of 4845.\n",
      "Posts 800 of 4845.\n",
      "Posts 900 of 4845.\n",
      "Posts 1000 of 4845.\n",
      "Posts 1100 of 4845.\n",
      "Posts 1200 of 4845.\n"
     ]
    }
   ],
   "source": [
    "print(\"Cleaning and parsing the training set reviews...\")\n",
    "\n",
    "j = 0\n",
    "for reviews in X_one_train['review']:\n",
    "    X_one_train_cleaned.append(review_to_words(reviews))\n",
    "#     clean_train_posts[X_train] = review_to_words(train_post)\n",
    "                                                  \n",
    "    if (j + 1) % 100 == 0:\n",
    "        print(f'Posts {j + 1} of {total_reviews}.')\n",
    "    \n",
    "    j += 1\n",
    "    \n",
    "print(\"Cleaning and parsing the training set reviews...\")\n",
    "\n",
    "j = 0\n",
    "for reviews in X_one_test['review']:\n",
    "    X_one_test_cleaned.append(review_to_words(reviews))\n",
    "#     clean_train_posts[X_train] = review_to_words(train_post)\n",
    "                                                  \n",
    "    if (j + 1) % 100 == 0:\n",
    "        print(f'Posts {j + 1} of {total_reviews}.')\n",
    "    \n",
    "    j += 1"
   ]
  },
  {
   "cell_type": "code",
   "execution_count": 13,
   "metadata": {},
   "outputs": [],
   "source": [
    "plot_cleaned = []\n",
    "plot_cleaned.append(review_to_words(one_movie['plot'][0]))"
   ]
  },
  {
   "cell_type": "code",
   "execution_count": 14,
   "metadata": {},
   "outputs": [
    {
     "name": "stdout",
     "output_type": "stream",
     "text": [
      "There are 2985416 words in the combination of all spoiler reviews.\n"
     ]
    },
    {
     "data": {
      "image/png": "[encoded data removed]",
      "text/plain": [
       "<Figure size 936x720 with 1 Axes>"
      ]
     },
     "metadata": {
      "needs_background": "light"
     },
     "output_type": "display_data"
    }
   ],
   "source": [
    "spoiler = \" \".join(posts for posts in one_movie[one_movie['is_spoiler']==1]['review'])\n",
    "print (\"There are {} words in the combination of all spoiler reviews.\".format(len(spoiler)))\n",
    "\n",
    "stopwords = set(STOPWORDS)\n",
    "\n",
    "wordcloud_spoiler = WordCloud(stopwords=stopwords, background_color=\"white\", max_words=100).generate(spoiler)\n",
    "\n",
    "plt.figure(figsize=[13,10])\n",
    "plt.imshow(wordcloud_spoiler, interpolation='bilinear')\n",
    "plt.axis(\"off\")\n",
    "plt.show()"
   ]
  },
  {
   "cell_type": "code",
   "execution_count": 15,
   "metadata": {
    "scrolled": false
   },
   "outputs": [
    {
     "name": "stdout",
     "output_type": "stream",
     "text": [
      "There are 4986880 words in the combination of all non-spoiler reviews.\n"
     ]
    },
    {
     "data": {
      "image/png": "[encoded data removed]",
      "text/plain": [
       "<Figure size 936x720 with 1 Axes>"
      ]
     },
     "metadata": {
      "needs_background": "light"
     },
     "output_type": "display_data"
    }
   ],
   "source": [
    "no_spoiler = \" \".join(posts for posts in one_movie[one_movie['is_spoiler']==0]['review'])\n",
    "print (\"There are {} words in the combination of all non-spoiler reviews.\".format(len(no_spoiler)))\n",
    "\n",
    "stopwords = set(STOPWORDS)\n",
    "\n",
    "wordcloud_no_spoiler = WordCloud(stopwords=stopwords, background_color=\"white\", max_words=100).generate(no_spoiler)\n",
    "\n",
    "plt.figure(figsize=[13,10])\n",
    "plt.imshow(wordcloud_no_spoiler, interpolation='bilinear')\n",
    "plt.axis(\"off\")\n",
    "plt.show()"
   ]
  },
  {
   "cell_type": "markdown",
   "metadata": {},
   "source": [
    "### Defining functions for later usage"
   ]
  },
  {
   "cell_type": "markdown",
   "metadata": {},
   "source": [
    "Get common words to add into our stopwords later on"
   ]
  },
  {
   "cell_type": "code",
   "execution_count": 133,
   "metadata": {
    "scrolled": true
   },
   "outputs": [],
   "source": [
    "def get_top_n_words(corpus, n=25):\n",
    "    vec = CountVectorizer(stop_words='english').fit(corpus)\n",
    "    bag_of_words = vec.transform(corpus)\n",
    "    sum_words = bag_of_words.sum(axis=0) \n",
    "    words_freq = [(word, sum_words[0, idx]) for word, idx in vec.vocabulary_.items()]\n",
    "    words_freq =sorted(words_freq, key = lambda x: x[1], reverse=True)\n",
    "    return words_freq[:n]\n",
    "\n",
    "def find_common_words(data):\n",
    "    list_of_common_words = get_top_n_words(data)\n",
    "    common_words = []\n",
    "    for word, freq in list_of_common_words:\n",
    "\n",
    "        common_words.append(word)\n",
    "    return common_words\n"
   ]
  },
  {
   "cell_type": "markdown",
   "metadata": {},
   "source": [
    "Grid search for our final model"
   ]
  },
  {
   "cell_type": "code",
   "execution_count": 17,
   "metadata": {},
   "outputs": [],
   "source": [
    "scorers = {\n",
    "    'precision_score': make_scorer(precision_score),\n",
    "    'recall_score': make_scorer(recall_score),\n",
    "    'accuracy_score': make_scorer(accuracy_score)\n",
    "}\n",
    "\n",
    "def grid_search_wrapper(pipeline, parameters, refit_score='precision_score'):\n",
    "    skf = StratifiedKFold(n_splits=10)\n",
    "    grid_search = GridSearchCV(pipeline, param_grid=parameters, scoring=scorers, refit=refit_score,\n",
    "                           cv=skf, return_train_score=True, n_jobs=-1)\n",
    "    grid_search.fit(X_one_train_cleaned, y_one_train)\n",
    "\n",
    "    # make the predictions\n",
    "    y_pred = grid_search.predict(X_one_test_cleaned)\n",
    "\n",
    "    print('Best params for {}'.format(refit_score))\n",
    "    print(grid_search.best_params_)\n",
    "\n",
    "    # confusion matrix on the test data.\n",
    "    print('\\nConfusion matrix of Random Forest optimized for {} on the test data:'.format(refit_score))\n",
    "    print(pd.DataFrame(confusion_matrix(y_one_test, y_pred),\n",
    "                 columns=['predicted negative', 'predicted positive'], index=['true negative', 'true positive']))\n",
    "    return grid_search\n",
    "\n",
    "    "
   ]
  },
  {
   "cell_type": "markdown",
   "metadata": {},
   "source": [
    "To display confusion table and classification report"
   ]
  },
  {
   "cell_type": "code",
   "execution_count": 18,
   "metadata": {},
   "outputs": [],
   "source": [
    "def confusion_table(pred_y, test_y = y_one_train):\n",
    "    tn, fp, fn, tp = confusion_matrix(test_y, pred_y).ravel()\n",
    "    cm = pd.DataFrame(columns=['Predicted Negative','Predicted Positive'], index=['Actual Negative', 'Actual Positive'])\n",
    "    cm['Predicted Positive'][1] = tp\n",
    "    cm['Predicted Positive'][0] = fp\n",
    "    cm['Predicted Negative'][1] = fn\n",
    "    cm['Predicted Negative'][0] = tn\n",
    "    \n",
    "    print(\"True Negatives: %s\" % tn)\n",
    "    print(\"False Negatives: %s\" % fn)\n",
    "    print(\"False Positives: %s\" % fp)\n",
    "    print(\"True Positives: %s\" % tp)\n",
    "    return cm\n",
    "    \n",
    "def class_report(pred_y, test_y = 'y_one_train'):\n",
    "    report = pd.DataFrame(classification_report(test_y, pred_y, output_dict=True))\n",
    "    return report.T"
   ]
  },
  {
   "cell_type": "markdown",
   "metadata": {},
   "source": [
    "## Logistic Regression with CountVectorizer"
   ]
  },
  {
   "cell_type": "code",
   "execution_count": 20,
   "metadata": {},
   "outputs": [],
   "source": [
    "pipe_cv_lr = Pipeline([\n",
    "    ('cvec', CountVectorizer()),\n",
    "    ('lr', LogisticRegression(random_state=42, max_iter=1000))\n",
    "])\n",
    "\n",
    "pipe_params_cv_lr = {\n",
    "    'cvec__max_features': [400, 500, 600, 700],\n",
    "    'cvec__min_df': [2, 3, 4 ,5],\n",
    "    'cvec__max_df': [0.85,.9, .95],\n",
    "    'cvec__ngram_range': [(1,1), (1,2)],\n",
    "    'lr__class_weight': ['balanced', {1:1.5}, {1:1.75}]\n",
    "}\n"
   ]
  },
  {
   "cell_type": "code",
   "execution_count": 21,
   "metadata": {},
   "outputs": [
    {
     "name": "stdout",
     "output_type": "stream",
     "text": [
      "0.6793252014960156\n"
     ]
    },
    {
     "data": {
      "text/plain": [
       "{'lr__class_weight': {1: 1.5},\n",
       " 'cvec__ngram_range': (1, 1),\n",
       " 'cvec__min_df': 3,\n",
       " 'cvec__max_features': 400,\n",
       " 'cvec__max_df': 0.9}"
      ]
     },
     "execution_count": 21,
     "metadata": {},
     "output_type": "execute_result"
    }
   ],
   "source": [
    "rs_cv_lr = RandomizedSearchCV(pipe_cv_lr, param_distributions=pipe_params_cv_lr, cv=5)\n",
    "rs_cv_lr.fit(X_one_train_cleaned, y_one_train)\n",
    "print(rs_cv_lr.best_score_)\n",
    "rs_cv_lr.best_params_"
   ]
  },
  {
   "cell_type": "code",
   "execution_count": 22,
   "metadata": {},
   "outputs": [
    {
     "name": "stdout",
     "output_type": "stream",
     "text": [
      "Train accuracy score: 77.9246%\n",
      "Test accuracy score: 68.9769%\n"
     ]
    }
   ],
   "source": [
    "print(f'Train accuracy score: {round(rs_cv_lr.score(X_one_train_cleaned, y_one_train)*100,4)}%')\n",
    "print(f'Test accuracy score: {round(rs_cv_lr.score(X_one_test_cleaned, y_one_test)*100,4)}%')"
   ]
  },
  {
   "cell_type": "code",
   "execution_count": 23,
   "metadata": {
    "scrolled": false
   },
   "outputs": [
    {
     "name": "stdout",
     "output_type": "stream",
     "text": [
      "True Negatives: 676\n",
      "False Negatives: 165\n",
      "False Positives: 211\n",
      "True Positives: 160\n"
     ]
    },
    {
     "data": {
      "text/html": [
       "<div>\n",
       "<style scoped>\n",
       "    .dataframe tbody tr th:only-of-type {\n",
       "        vertical-align: middle;\n",
       "    }\n",
       "\n",
       "    .dataframe tbody tr th {\n",
       "        vertical-align: top;\n",
       "    }\n",
       "\n",
       "    .dataframe thead th {\n",
       "        text-align: right;\n",
       "    }\n",
       "</style>\n",
       "<table border=\"1\" class=\"dataframe\">\n",
       "  <thead>\n",
       "    <tr style=\"text-align: right;\">\n",
       "      <th></th>\n",
       "      <th>Predicted Negative</th>\n",
       "      <th>Predicted Positive</th>\n",
       "    </tr>\n",
       "  </thead>\n",
       "  <tbody>\n",
       "    <tr>\n",
       "      <th>Actual Negative</th>\n",
       "      <td>676</td>\n",
       "      <td>211</td>\n",
       "    </tr>\n",
       "    <tr>\n",
       "      <th>Actual Positive</th>\n",
       "      <td>165</td>\n",
       "      <td>160</td>\n",
       "    </tr>\n",
       "  </tbody>\n",
       "</table>\n",
       "</div>"
      ],
      "text/plain": [
       "                Predicted Negative Predicted Positive\n",
       "Actual Negative                676                211\n",
       "Actual Positive                165                160"
      ]
     },
     "execution_count": 23,
     "metadata": {},
     "output_type": "execute_result"
    }
   ],
   "source": [
    "y_one_predict_cv = rs_cv_lr.predict(X_one_test_cleaned)\n",
    "confusion_table(y_one_test, y_one_predict_cv)"
   ]
  },
  {
   "cell_type": "code",
   "execution_count": 24,
   "metadata": {},
   "outputs": [
    {
     "data": {
      "text/html": [
       "<div>\n",
       "<style scoped>\n",
       "    .dataframe tbody tr th:only-of-type {\n",
       "        vertical-align: middle;\n",
       "    }\n",
       "\n",
       "    .dataframe tbody tr th {\n",
       "        vertical-align: top;\n",
       "    }\n",
       "\n",
       "    .dataframe thead th {\n",
       "        text-align: right;\n",
       "    }\n",
       "</style>\n",
       "<table border=\"1\" class=\"dataframe\">\n",
       "  <thead>\n",
       "    <tr style=\"text-align: right;\">\n",
       "      <th></th>\n",
       "      <th>precision</th>\n",
       "      <th>recall</th>\n",
       "      <th>f1-score</th>\n",
       "      <th>support</th>\n",
       "    </tr>\n",
       "  </thead>\n",
       "  <tbody>\n",
       "    <tr>\n",
       "      <th>0</th>\n",
       "      <td>0.762120</td>\n",
       "      <td>0.803805</td>\n",
       "      <td>0.782407</td>\n",
       "      <td>841.000000</td>\n",
       "    </tr>\n",
       "    <tr>\n",
       "      <th>1</th>\n",
       "      <td>0.492308</td>\n",
       "      <td>0.431267</td>\n",
       "      <td>0.459770</td>\n",
       "      <td>371.000000</td>\n",
       "    </tr>\n",
       "    <tr>\n",
       "      <th>accuracy</th>\n",
       "      <td>0.689769</td>\n",
       "      <td>0.689769</td>\n",
       "      <td>0.689769</td>\n",
       "      <td>0.689769</td>\n",
       "    </tr>\n",
       "    <tr>\n",
       "      <th>macro avg</th>\n",
       "      <td>0.627214</td>\n",
       "      <td>0.617536</td>\n",
       "      <td>0.621089</td>\n",
       "      <td>1212.000000</td>\n",
       "    </tr>\n",
       "    <tr>\n",
       "      <th>weighted avg</th>\n",
       "      <td>0.679529</td>\n",
       "      <td>0.689769</td>\n",
       "      <td>0.683646</td>\n",
       "      <td>1212.000000</td>\n",
       "    </tr>\n",
       "  </tbody>\n",
       "</table>\n",
       "</div>"
      ],
      "text/plain": [
       "              precision    recall  f1-score      support\n",
       "0              0.762120  0.803805  0.782407   841.000000\n",
       "1              0.492308  0.431267  0.459770   371.000000\n",
       "accuracy       0.689769  0.689769  0.689769     0.689769\n",
       "macro avg      0.627214  0.617536  0.621089  1212.000000\n",
       "weighted avg   0.679529  0.689769  0.683646  1212.000000"
      ]
     },
     "execution_count": 24,
     "metadata": {},
     "output_type": "execute_result"
    }
   ],
   "source": [
    "cvlr_class_report = class_report(y_one_predict_cv, y_one_test)\n",
    "cvlr_class_report"
   ]
  },
  {
   "cell_type": "markdown",
   "metadata": {},
   "source": [
    "## Logistic Regression with TFIDF"
   ]
  },
  {
   "cell_type": "code",
   "execution_count": 25,
   "metadata": {},
   "outputs": [],
   "source": [
    "pipe_tv_lr = Pipeline([\n",
    "    ('tvec', TfidfVectorizer()),\n",
    "    ('lr', LogisticRegression(random_state=42, max_iter=1000))\n",
    "])\n",
    "\n",
    "pipe_params_tv_lr = {\n",
    "    'tvec__max_features': [400, 500, 600, 700],\n",
    "    'tvec__min_df': [1, 2, 3, 4],\n",
    "    'tvec__max_df': [0.85,.9, .95],\n",
    "    'tvec__ngram_range': [(1,1), (1,2)],\n",
    "    'lr__class_weight': ['balanced', {1:1.25}, {1:1.5}, {1:1.75}]\n",
    "}\n"
   ]
  },
  {
   "cell_type": "code",
   "execution_count": 26,
   "metadata": {},
   "outputs": [
    {
     "name": "stdout",
     "output_type": "stream",
     "text": [
      "0.7269430581922767\n"
     ]
    },
    {
     "data": {
      "text/plain": [
       "{'tvec__ngram_range': (1, 1),\n",
       " 'tvec__min_df': 1,\n",
       " 'tvec__max_features': 600,\n",
       " 'tvec__max_df': 0.95,\n",
       " 'lr__class_weight': {1: 1.25}}"
      ]
     },
     "execution_count": 26,
     "metadata": {},
     "output_type": "execute_result"
    }
   ],
   "source": [
    "rs_tv_lr = RandomizedSearchCV(pipe_tv_lr, param_distributions=pipe_params_tv_lr, cv=5)\n",
    "rs_tv_lr.fit(X_one_train_cleaned, y_one_train)\n",
    "print(rs_tv_lr.best_score_)\n",
    "rs_tv_lr.best_params_"
   ]
  },
  {
   "cell_type": "code",
   "execution_count": 27,
   "metadata": {},
   "outputs": [
    {
     "name": "stdout",
     "output_type": "stream",
     "text": [
      "Train accuracy score: 77.9521%\n",
      "Test accuracy score: 72.3597%\n"
     ]
    }
   ],
   "source": [
    "print(f'Train accuracy score: {round(rs_tv_lr.score(X_one_train_cleaned, y_one_train)*100,4)}%')\n",
    "print(f'Test accuracy score: {round(rs_tv_lr.score(X_one_test_cleaned, y_one_test)*100,4)}%')"
   ]
  },
  {
   "cell_type": "code",
   "execution_count": 28,
   "metadata": {
    "scrolled": true
   },
   "outputs": [
    {
     "name": "stdout",
     "output_type": "stream",
     "text": [
      "True Negatives: 737\n",
      "False Negatives: 104\n",
      "False Positives: 231\n",
      "True Positives: 140\n"
     ]
    },
    {
     "data": {
      "text/html": [
       "<div>\n",
       "<style scoped>\n",
       "    .dataframe tbody tr th:only-of-type {\n",
       "        vertical-align: middle;\n",
       "    }\n",
       "\n",
       "    .dataframe tbody tr th {\n",
       "        vertical-align: top;\n",
       "    }\n",
       "\n",
       "    .dataframe thead th {\n",
       "        text-align: right;\n",
       "    }\n",
       "</style>\n",
       "<table border=\"1\" class=\"dataframe\">\n",
       "  <thead>\n",
       "    <tr style=\"text-align: right;\">\n",
       "      <th></th>\n",
       "      <th>Predicted Negative</th>\n",
       "      <th>Predicted Positive</th>\n",
       "    </tr>\n",
       "  </thead>\n",
       "  <tbody>\n",
       "    <tr>\n",
       "      <th>Actual Negative</th>\n",
       "      <td>737</td>\n",
       "      <td>231</td>\n",
       "    </tr>\n",
       "    <tr>\n",
       "      <th>Actual Positive</th>\n",
       "      <td>104</td>\n",
       "      <td>140</td>\n",
       "    </tr>\n",
       "  </tbody>\n",
       "</table>\n",
       "</div>"
      ],
      "text/plain": [
       "                Predicted Negative Predicted Positive\n",
       "Actual Negative                737                231\n",
       "Actual Positive                104                140"
      ]
     },
     "execution_count": 28,
     "metadata": {},
     "output_type": "execute_result"
    }
   ],
   "source": [
    "y_one_predict_tv = rs_tv_lr.predict(X_one_test_cleaned)\n",
    "confusion_table(y_one_test, y_one_predict_tv)"
   ]
  },
  {
   "cell_type": "code",
   "execution_count": 29,
   "metadata": {},
   "outputs": [
    {
     "data": {
      "text/html": [
       "<div>\n",
       "<style scoped>\n",
       "    .dataframe tbody tr th:only-of-type {\n",
       "        vertical-align: middle;\n",
       "    }\n",
       "\n",
       "    .dataframe tbody tr th {\n",
       "        vertical-align: top;\n",
       "    }\n",
       "\n",
       "    .dataframe thead th {\n",
       "        text-align: right;\n",
       "    }\n",
       "</style>\n",
       "<table border=\"1\" class=\"dataframe\">\n",
       "  <thead>\n",
       "    <tr style=\"text-align: right;\">\n",
       "      <th></th>\n",
       "      <th>precision</th>\n",
       "      <th>recall</th>\n",
       "      <th>f1-score</th>\n",
       "      <th>support</th>\n",
       "    </tr>\n",
       "  </thead>\n",
       "  <tbody>\n",
       "    <tr>\n",
       "      <th>0</th>\n",
       "      <td>0.761364</td>\n",
       "      <td>0.876338</td>\n",
       "      <td>0.814815</td>\n",
       "      <td>841.000000</td>\n",
       "    </tr>\n",
       "    <tr>\n",
       "      <th>1</th>\n",
       "      <td>0.573770</td>\n",
       "      <td>0.377358</td>\n",
       "      <td>0.455285</td>\n",
       "      <td>371.000000</td>\n",
       "    </tr>\n",
       "    <tr>\n",
       "      <th>accuracy</th>\n",
       "      <td>0.723597</td>\n",
       "      <td>0.723597</td>\n",
       "      <td>0.723597</td>\n",
       "      <td>0.723597</td>\n",
       "    </tr>\n",
       "    <tr>\n",
       "      <th>macro avg</th>\n",
       "      <td>0.667567</td>\n",
       "      <td>0.626848</td>\n",
       "      <td>0.635050</td>\n",
       "      <td>1212.000000</td>\n",
       "    </tr>\n",
       "    <tr>\n",
       "      <th>weighted avg</th>\n",
       "      <td>0.703940</td>\n",
       "      <td>0.723597</td>\n",
       "      <td>0.704761</td>\n",
       "      <td>1212.000000</td>\n",
       "    </tr>\n",
       "  </tbody>\n",
       "</table>\n",
       "</div>"
      ],
      "text/plain": [
       "              precision    recall  f1-score      support\n",
       "0              0.761364  0.876338  0.814815   841.000000\n",
       "1              0.573770  0.377358  0.455285   371.000000\n",
       "accuracy       0.723597  0.723597  0.723597     0.723597\n",
       "macro avg      0.667567  0.626848  0.635050  1212.000000\n",
       "weighted avg   0.703940  0.723597  0.704761  1212.000000"
      ]
     },
     "execution_count": 29,
     "metadata": {},
     "output_type": "execute_result"
    }
   ],
   "source": [
    "tvlr_class_report = class_report(y_one_predict_tv, y_one_test)\n",
    "tvlr_class_report"
   ]
  },
  {
   "cell_type": "markdown",
   "metadata": {},
   "source": [
    "## Naive Bayes (Multinomial) with Count Vectorizer"
   ]
  },
  {
   "cell_type": "code",
   "execution_count": 61,
   "metadata": {},
   "outputs": [],
   "source": [
    "pipe_cv_mnb = Pipeline([\n",
    "    ('cvec', CountVectorizer()),\n",
    "    ('nb', MultinomialNB())\n",
    "])\n",
    "\n",
    "pipe_params_cv_nb = {\n",
    "    'cvec__max_features': [400, 500, 600, 700],\n",
    "    'cvec__min_df': [2, 3, 4 ,5],\n",
    "    'cvec__max_df': [0.85,.9, .95],\n",
    "    'cvec__ngram_range': [(1,1), (1,2)]\n",
    "}\n"
   ]
  },
  {
   "cell_type": "code",
   "execution_count": 62,
   "metadata": {},
   "outputs": [
    {
     "name": "stdout",
     "output_type": "stream",
     "text": [
      "0.7145641736863445\n"
     ]
    },
    {
     "data": {
      "text/plain": [
       "{'cvec__ngram_range': (1, 1),\n",
       " 'cvec__min_df': 3,\n",
       " 'cvec__max_features': 600,\n",
       " 'cvec__max_df': 0.9}"
      ]
     },
     "execution_count": 62,
     "metadata": {},
     "output_type": "execute_result"
    }
   ],
   "source": [
    "rs_cv_nb = RandomizedSearchCV(pipe_cv_mnb, param_distributions=pipe_params_cv_nb, cv=5)\n",
    "rs_cv_nb.fit(X_one_train_cleaned, y_one_train)\n",
    "print(rs_cv_nb.best_score_)\n",
    "rs_cv_nb.best_params_"
   ]
  },
  {
   "cell_type": "code",
   "execution_count": 63,
   "metadata": {},
   "outputs": [
    {
     "name": "stdout",
     "output_type": "stream",
     "text": [
      "Train accuracy score: 73.3829%\n",
      "Test accuracy score: 69.802%\n"
     ]
    }
   ],
   "source": [
    "print(f'Train accuracy score: {round(rs_cv_nb.score(X_one_train_cleaned, y_one_train)*100,4)}%')\n",
    "print(f'Test accuracy score: {round(rs_cv_nb.score(X_one_test_cleaned, y_one_test)*100,4)}%')"
   ]
  },
  {
   "cell_type": "code",
   "execution_count": 64,
   "metadata": {
    "scrolled": true
   },
   "outputs": [
    {
     "name": "stdout",
     "output_type": "stream",
     "text": [
      "True Negatives: 661\n",
      "False Negatives: 180\n",
      "False Positives: 186\n",
      "True Positives: 185\n"
     ]
    },
    {
     "data": {
      "text/html": [
       "<div>\n",
       "<style scoped>\n",
       "    .dataframe tbody tr th:only-of-type {\n",
       "        vertical-align: middle;\n",
       "    }\n",
       "\n",
       "    .dataframe tbody tr th {\n",
       "        vertical-align: top;\n",
       "    }\n",
       "\n",
       "    .dataframe thead th {\n",
       "        text-align: right;\n",
       "    }\n",
       "</style>\n",
       "<table border=\"1\" class=\"dataframe\">\n",
       "  <thead>\n",
       "    <tr style=\"text-align: right;\">\n",
       "      <th></th>\n",
       "      <th>Predicted Negative</th>\n",
       "      <th>Predicted Positive</th>\n",
       "    </tr>\n",
       "  </thead>\n",
       "  <tbody>\n",
       "    <tr>\n",
       "      <th>Actual Negative</th>\n",
       "      <td>661</td>\n",
       "      <td>186</td>\n",
       "    </tr>\n",
       "    <tr>\n",
       "      <th>Actual Positive</th>\n",
       "      <td>180</td>\n",
       "      <td>185</td>\n",
       "    </tr>\n",
       "  </tbody>\n",
       "</table>\n",
       "</div>"
      ],
      "text/plain": [
       "                Predicted Negative Predicted Positive\n",
       "Actual Negative                661                186\n",
       "Actual Positive                180                185"
      ]
     },
     "execution_count": 64,
     "metadata": {},
     "output_type": "execute_result"
    }
   ],
   "source": [
    "y_one_predict_cnb = rs_cv_nb.predict(X_one_test_cleaned)\n",
    "confusion_table(y_one_test, y_one_predict_cnb)"
   ]
  },
  {
   "cell_type": "code",
   "execution_count": 65,
   "metadata": {},
   "outputs": [
    {
     "data": {
      "text/html": [
       "<div>\n",
       "<style scoped>\n",
       "    .dataframe tbody tr th:only-of-type {\n",
       "        vertical-align: middle;\n",
       "    }\n",
       "\n",
       "    .dataframe tbody tr th {\n",
       "        vertical-align: top;\n",
       "    }\n",
       "\n",
       "    .dataframe thead th {\n",
       "        text-align: right;\n",
       "    }\n",
       "</style>\n",
       "<table border=\"1\" class=\"dataframe\">\n",
       "  <thead>\n",
       "    <tr style=\"text-align: right;\">\n",
       "      <th></th>\n",
       "      <th>precision</th>\n",
       "      <th>recall</th>\n",
       "      <th>f1-score</th>\n",
       "      <th>support</th>\n",
       "    </tr>\n",
       "  </thead>\n",
       "  <tbody>\n",
       "    <tr>\n",
       "      <th>0</th>\n",
       "      <td>0.780401</td>\n",
       "      <td>0.785969</td>\n",
       "      <td>0.783175</td>\n",
       "      <td>841.00000</td>\n",
       "    </tr>\n",
       "    <tr>\n",
       "      <th>1</th>\n",
       "      <td>0.506849</td>\n",
       "      <td>0.498652</td>\n",
       "      <td>0.502717</td>\n",
       "      <td>371.00000</td>\n",
       "    </tr>\n",
       "    <tr>\n",
       "      <th>accuracy</th>\n",
       "      <td>0.698020</td>\n",
       "      <td>0.698020</td>\n",
       "      <td>0.698020</td>\n",
       "      <td>0.69802</td>\n",
       "    </tr>\n",
       "    <tr>\n",
       "      <th>macro avg</th>\n",
       "      <td>0.643625</td>\n",
       "      <td>0.642311</td>\n",
       "      <td>0.642946</td>\n",
       "      <td>1212.00000</td>\n",
       "    </tr>\n",
       "    <tr>\n",
       "      <th>weighted avg</th>\n",
       "      <td>0.696666</td>\n",
       "      <td>0.698020</td>\n",
       "      <td>0.697326</td>\n",
       "      <td>1212.00000</td>\n",
       "    </tr>\n",
       "  </tbody>\n",
       "</table>\n",
       "</div>"
      ],
      "text/plain": [
       "              precision    recall  f1-score     support\n",
       "0              0.780401  0.785969  0.783175   841.00000\n",
       "1              0.506849  0.498652  0.502717   371.00000\n",
       "accuracy       0.698020  0.698020  0.698020     0.69802\n",
       "macro avg      0.643625  0.642311  0.642946  1212.00000\n",
       "weighted avg   0.696666  0.698020  0.697326  1212.00000"
      ]
     },
     "execution_count": 65,
     "metadata": {},
     "output_type": "execute_result"
    }
   ],
   "source": [
    "cvnb_class_report = class_report(y_one_predict_cnb, y_one_test)\n",
    "cvnb_class_report"
   ]
  },
  {
   "cell_type": "markdown",
   "metadata": {},
   "source": [
    "## Naive Bayes (Multinomial) with TFIDF Vectorizer"
   ]
  },
  {
   "cell_type": "code",
   "execution_count": 35,
   "metadata": {},
   "outputs": [],
   "source": [
    "pipe_tv_mnb = Pipeline([\n",
    "    ('tvec', TfidfVectorizer()),\n",
    "    ('nb', MultinomialNB())\n",
    "])\n",
    "\n",
    "pipe_params_tv_mnb = {\n",
    "    'tvec__max_features': [400, 500, 600, 700],\n",
    "    'tvec__min_df': [1, 2, 3, 4],\n",
    "    'tvec__max_df': [0.85,.9, .95],\n",
    "    'tvec__ngram_range': [(1,1), (1,2)]\n",
    "}\n"
   ]
  },
  {
   "cell_type": "code",
   "execution_count": 36,
   "metadata": {},
   "outputs": [
    {
     "name": "stdout",
     "output_type": "stream",
     "text": [
      "0.7153856938776284\n"
     ]
    },
    {
     "data": {
      "text/plain": [
       "{'tvec__ngram_range': (1, 1),\n",
       " 'tvec__min_df': 4,\n",
       " 'tvec__max_features': 600,\n",
       " 'tvec__max_df': 0.85}"
      ]
     },
     "execution_count": 36,
     "metadata": {},
     "output_type": "execute_result"
    }
   ],
   "source": [
    "rs_tv_nb = RandomizedSearchCV(pipe_tv_mnb, param_distributions=pipe_params_tv_mnb, cv=5)\n",
    "rs_tv_nb.fit(X_one_train_cleaned, y_one_train)\n",
    "print(rs_tv_nb.best_score_)\n",
    "rs_tv_nb.best_params_"
   ]
  },
  {
   "cell_type": "code",
   "execution_count": 37,
   "metadata": {},
   "outputs": [
    {
     "name": "stdout",
     "output_type": "stream",
     "text": [
      "Train accuracy score: 72.3369%\n",
      "Test accuracy score: 71.7822%\n"
     ]
    }
   ],
   "source": [
    "print(f'Train accuracy score: {round(rs_tv_nb.score(X_one_train_cleaned, y_one_train)*100,4)}%')\n",
    "print(f'Test accuracy score: {round(rs_tv_nb.score(X_one_test_cleaned, y_one_test)*100,4)}%')"
   ]
  },
  {
   "cell_type": "code",
   "execution_count": 38,
   "metadata": {},
   "outputs": [
    {
     "name": "stdout",
     "output_type": "stream",
     "text": [
      "True Negatives: 824\n",
      "False Negatives: 17\n",
      "False Positives: 325\n",
      "True Positives: 46\n"
     ]
    },
    {
     "data": {
      "text/html": [
       "<div>\n",
       "<style scoped>\n",
       "    .dataframe tbody tr th:only-of-type {\n",
       "        vertical-align: middle;\n",
       "    }\n",
       "\n",
       "    .dataframe tbody tr th {\n",
       "        vertical-align: top;\n",
       "    }\n",
       "\n",
       "    .dataframe thead th {\n",
       "        text-align: right;\n",
       "    }\n",
       "</style>\n",
       "<table border=\"1\" class=\"dataframe\">\n",
       "  <thead>\n",
       "    <tr style=\"text-align: right;\">\n",
       "      <th></th>\n",
       "      <th>Predicted Negative</th>\n",
       "      <th>Predicted Positive</th>\n",
       "    </tr>\n",
       "  </thead>\n",
       "  <tbody>\n",
       "    <tr>\n",
       "      <th>Actual Negative</th>\n",
       "      <td>824</td>\n",
       "      <td>325</td>\n",
       "    </tr>\n",
       "    <tr>\n",
       "      <th>Actual Positive</th>\n",
       "      <td>17</td>\n",
       "      <td>46</td>\n",
       "    </tr>\n",
       "  </tbody>\n",
       "</table>\n",
       "</div>"
      ],
      "text/plain": [
       "                Predicted Negative Predicted Positive\n",
       "Actual Negative                824                325\n",
       "Actual Positive                 17                 46"
      ]
     },
     "execution_count": 38,
     "metadata": {},
     "output_type": "execute_result"
    }
   ],
   "source": [
    "y_one_predict_tnb = rs_tv_nb.predict(X_one_test_cleaned)\n",
    "confusion_table(y_one_test, y_one_predict_tnb)"
   ]
  },
  {
   "cell_type": "code",
   "execution_count": 39,
   "metadata": {},
   "outputs": [
    {
     "data": {
      "text/html": [
       "<div>\n",
       "<style scoped>\n",
       "    .dataframe tbody tr th:only-of-type {\n",
       "        vertical-align: middle;\n",
       "    }\n",
       "\n",
       "    .dataframe tbody tr th {\n",
       "        vertical-align: top;\n",
       "    }\n",
       "\n",
       "    .dataframe thead th {\n",
       "        text-align: right;\n",
       "    }\n",
       "</style>\n",
       "<table border=\"1\" class=\"dataframe\">\n",
       "  <thead>\n",
       "    <tr style=\"text-align: right;\">\n",
       "      <th></th>\n",
       "      <th>precision</th>\n",
       "      <th>recall</th>\n",
       "      <th>f1-score</th>\n",
       "      <th>support</th>\n",
       "    </tr>\n",
       "  </thead>\n",
       "  <tbody>\n",
       "    <tr>\n",
       "      <th>0</th>\n",
       "      <td>0.717145</td>\n",
       "      <td>0.979786</td>\n",
       "      <td>0.828141</td>\n",
       "      <td>841.000000</td>\n",
       "    </tr>\n",
       "    <tr>\n",
       "      <th>1</th>\n",
       "      <td>0.730159</td>\n",
       "      <td>0.123989</td>\n",
       "      <td>0.211982</td>\n",
       "      <td>371.000000</td>\n",
       "    </tr>\n",
       "    <tr>\n",
       "      <th>accuracy</th>\n",
       "      <td>0.717822</td>\n",
       "      <td>0.717822</td>\n",
       "      <td>0.717822</td>\n",
       "      <td>0.717822</td>\n",
       "    </tr>\n",
       "    <tr>\n",
       "      <th>macro avg</th>\n",
       "      <td>0.723652</td>\n",
       "      <td>0.551888</td>\n",
       "      <td>0.520061</td>\n",
       "      <td>1212.000000</td>\n",
       "    </tr>\n",
       "    <tr>\n",
       "      <th>weighted avg</th>\n",
       "      <td>0.721129</td>\n",
       "      <td>0.717822</td>\n",
       "      <td>0.639531</td>\n",
       "      <td>1212.000000</td>\n",
       "    </tr>\n",
       "  </tbody>\n",
       "</table>\n",
       "</div>"
      ],
      "text/plain": [
       "              precision    recall  f1-score      support\n",
       "0              0.717145  0.979786  0.828141   841.000000\n",
       "1              0.730159  0.123989  0.211982   371.000000\n",
       "accuracy       0.717822  0.717822  0.717822     0.717822\n",
       "macro avg      0.723652  0.551888  0.520061  1212.000000\n",
       "weighted avg   0.721129  0.717822  0.639531  1212.000000"
      ]
     },
     "execution_count": 39,
     "metadata": {},
     "output_type": "execute_result"
    }
   ],
   "source": [
    "tvnb_class_report = class_report(y_one_predict_tnb, y_one_test)\n",
    "tvnb_class_report"
   ]
  },
  {
   "cell_type": "markdown",
   "metadata": {},
   "source": [
    "## Naive Bayes (Complement) with Count Vectorizer"
   ]
  },
  {
   "cell_type": "code",
   "execution_count": 40,
   "metadata": {},
   "outputs": [],
   "source": [
    "pipe_cv_cnb = Pipeline([\n",
    "    ('cvec', CountVectorizer()),\n",
    "    ('cnb', ComplementNB())\n",
    "])\n",
    "\n",
    "pipe_params_cv_cnb = {\n",
    "    'cvec__max_features': [400, 500, 600, 700],\n",
    "    'cvec__min_df': [1, 2, 3, 4],\n",
    "    'cvec__max_df': [0.85,.9, .95],\n",
    "    'cvec__ngram_range': [(1,1), (1,2)]\n",
    "}\n"
   ]
  },
  {
   "cell_type": "code",
   "execution_count": 41,
   "metadata": {},
   "outputs": [
    {
     "name": "stdout",
     "output_type": "stream",
     "text": [
      "0.698597959083141\n"
     ]
    },
    {
     "data": {
      "text/plain": [
       "{'cvec__ngram_range': (1, 1),\n",
       " 'cvec__min_df': 4,\n",
       " 'cvec__max_features': 600,\n",
       " 'cvec__max_df': 0.9}"
      ]
     },
     "execution_count": 41,
     "metadata": {},
     "output_type": "execute_result"
    }
   ],
   "source": [
    "rs_cv_cnb = RandomizedSearchCV(pipe_cv_cnb, param_distributions=pipe_params_cv_cnb, cv=5)\n",
    "rs_cv_cnb.fit(X_one_train_cleaned, y_one_train)\n",
    "print(rs_cv_cnb.best_score_)\n",
    "rs_cv_cnb.best_params_"
   ]
  },
  {
   "cell_type": "code",
   "execution_count": 42,
   "metadata": {},
   "outputs": [
    {
     "name": "stdout",
     "output_type": "stream",
     "text": [
      "Train accuracy score: 71.7038%\n",
      "Test accuracy score: 67.7393%\n"
     ]
    }
   ],
   "source": [
    "print(f'Train accuracy score: {round(rs_cv_cnb.score(X_one_train_cleaned, y_one_train)*100,4)}%')\n",
    "print(f'Test accuracy score: {round(rs_cv_cnb.score(X_one_test_cleaned, y_one_test)*100,4)}%')"
   ]
  },
  {
   "cell_type": "code",
   "execution_count": 43,
   "metadata": {
    "scrolled": false
   },
   "outputs": [
    {
     "name": "stdout",
     "output_type": "stream",
     "text": [
      "True Negatives: 615\n",
      "False Negatives: 226\n",
      "False Positives: 165\n",
      "True Positives: 206\n"
     ]
    },
    {
     "data": {
      "text/html": [
       "<div>\n",
       "<style scoped>\n",
       "    .dataframe tbody tr th:only-of-type {\n",
       "        vertical-align: middle;\n",
       "    }\n",
       "\n",
       "    .dataframe tbody tr th {\n",
       "        vertical-align: top;\n",
       "    }\n",
       "\n",
       "    .dataframe thead th {\n",
       "        text-align: right;\n",
       "    }\n",
       "</style>\n",
       "<table border=\"1\" class=\"dataframe\">\n",
       "  <thead>\n",
       "    <tr style=\"text-align: right;\">\n",
       "      <th></th>\n",
       "      <th>Predicted Negative</th>\n",
       "      <th>Predicted Positive</th>\n",
       "    </tr>\n",
       "  </thead>\n",
       "  <tbody>\n",
       "    <tr>\n",
       "      <th>Actual Negative</th>\n",
       "      <td>615</td>\n",
       "      <td>165</td>\n",
       "    </tr>\n",
       "    <tr>\n",
       "      <th>Actual Positive</th>\n",
       "      <td>226</td>\n",
       "      <td>206</td>\n",
       "    </tr>\n",
       "  </tbody>\n",
       "</table>\n",
       "</div>"
      ],
      "text/plain": [
       "                Predicted Negative Predicted Positive\n",
       "Actual Negative                615                165\n",
       "Actual Positive                226                206"
      ]
     },
     "execution_count": 43,
     "metadata": {},
     "output_type": "execute_result"
    }
   ],
   "source": [
    "y_one_predict_ccnb = rs_cv_cnb.predict(X_one_test_cleaned)\n",
    "confusion_table(y_one_test, y_one_predict_ccnb)"
   ]
  },
  {
   "cell_type": "code",
   "execution_count": 44,
   "metadata": {},
   "outputs": [
    {
     "data": {
      "text/html": [
       "<div>\n",
       "<style scoped>\n",
       "    .dataframe tbody tr th:only-of-type {\n",
       "        vertical-align: middle;\n",
       "    }\n",
       "\n",
       "    .dataframe tbody tr th {\n",
       "        vertical-align: top;\n",
       "    }\n",
       "\n",
       "    .dataframe thead th {\n",
       "        text-align: right;\n",
       "    }\n",
       "</style>\n",
       "<table border=\"1\" class=\"dataframe\">\n",
       "  <thead>\n",
       "    <tr style=\"text-align: right;\">\n",
       "      <th></th>\n",
       "      <th>precision</th>\n",
       "      <th>recall</th>\n",
       "      <th>f1-score</th>\n",
       "      <th>support</th>\n",
       "    </tr>\n",
       "  </thead>\n",
       "  <tbody>\n",
       "    <tr>\n",
       "      <th>0</th>\n",
       "      <td>0.788462</td>\n",
       "      <td>0.731272</td>\n",
       "      <td>0.758791</td>\n",
       "      <td>841.000000</td>\n",
       "    </tr>\n",
       "    <tr>\n",
       "      <th>1</th>\n",
       "      <td>0.476852</td>\n",
       "      <td>0.555256</td>\n",
       "      <td>0.513076</td>\n",
       "      <td>371.000000</td>\n",
       "    </tr>\n",
       "    <tr>\n",
       "      <th>accuracy</th>\n",
       "      <td>0.677393</td>\n",
       "      <td>0.677393</td>\n",
       "      <td>0.677393</td>\n",
       "      <td>0.677393</td>\n",
       "    </tr>\n",
       "    <tr>\n",
       "      <th>macro avg</th>\n",
       "      <td>0.632657</td>\n",
       "      <td>0.643264</td>\n",
       "      <td>0.635933</td>\n",
       "      <td>1212.000000</td>\n",
       "    </tr>\n",
       "    <tr>\n",
       "      <th>weighted avg</th>\n",
       "      <td>0.693076</td>\n",
       "      <td>0.677393</td>\n",
       "      <td>0.683576</td>\n",
       "      <td>1212.000000</td>\n",
       "    </tr>\n",
       "  </tbody>\n",
       "</table>\n",
       "</div>"
      ],
      "text/plain": [
       "              precision    recall  f1-score      support\n",
       "0              0.788462  0.731272  0.758791   841.000000\n",
       "1              0.476852  0.555256  0.513076   371.000000\n",
       "accuracy       0.677393  0.677393  0.677393     0.677393\n",
       "macro avg      0.632657  0.643264  0.635933  1212.000000\n",
       "weighted avg   0.693076  0.677393  0.683576  1212.000000"
      ]
     },
     "execution_count": 44,
     "metadata": {},
     "output_type": "execute_result"
    }
   ],
   "source": [
    "cvcnb_class_report = class_report(y_one_predict_ccnb, y_one_test)\n",
    "cvcnb_class_report"
   ]
  },
  {
   "cell_type": "markdown",
   "metadata": {},
   "source": [
    "## Naive Bayes (Complement) with TFIDF Vectorizer"
   ]
  },
  {
   "cell_type": "code",
   "execution_count": 45,
   "metadata": {},
   "outputs": [],
   "source": [
    "pipe_tv_cnb = Pipeline([\n",
    "    ('tvec', TfidfVectorizer()),\n",
    "    ('cnb', ComplementNB())\n",
    "])\n",
    "\n",
    "pipe_params_tv_cnb = {\n",
    "    'tvec__max_features': [400, 500, 600, 700],\n",
    "    'tvec__min_df': [1, 2, 3, 4],\n",
    "    'tvec__max_df': [0.85,.9, .95],\n",
    "    'tvec__ngram_range': [(1,1), (1,2)]\n",
    "}\n"
   ]
  },
  {
   "cell_type": "code",
   "execution_count": 46,
   "metadata": {},
   "outputs": [
    {
     "name": "stdout",
     "output_type": "stream",
     "text": [
      "0.6845601191355849\n"
     ]
    },
    {
     "data": {
      "text/plain": [
       "{'tvec__ngram_range': (1, 1),\n",
       " 'tvec__min_df': 4,\n",
       " 'tvec__max_features': 700,\n",
       " 'tvec__max_df': 0.95}"
      ]
     },
     "execution_count": 46,
     "metadata": {},
     "output_type": "execute_result"
    }
   ],
   "source": [
    "rs_tv_cnb = RandomizedSearchCV(pipe_tv_cnb, param_distributions=pipe_params_tv_cnb, cv=5)\n",
    "rs_tv_cnb.fit(X_one_train_cleaned, y_one_train)\n",
    "print(rs_tv_cnb.best_score_)\n",
    "rs_tv_cnb.best_params_"
   ]
  },
  {
   "cell_type": "code",
   "execution_count": 47,
   "metadata": {},
   "outputs": [
    {
     "name": "stdout",
     "output_type": "stream",
     "text": [
      "Train accuracy score: 71.9516%\n",
      "Test accuracy score: 67.2442%\n"
     ]
    }
   ],
   "source": [
    "print(f'Train accuracy score: {round(rs_tv_cnb.score(X_one_train_cleaned, y_one_train)*100,4)}%')\n",
    "print(f'Test accuracy score: {round(rs_tv_cnb.score(X_one_test_cleaned, y_one_test)*100,4)}%')"
   ]
  },
  {
   "cell_type": "code",
   "execution_count": 48,
   "metadata": {},
   "outputs": [
    {
     "name": "stdout",
     "output_type": "stream",
     "text": [
      "True Negatives: 590\n",
      "False Negatives: 251\n",
      "False Positives: 146\n",
      "True Positives: 225\n"
     ]
    },
    {
     "data": {
      "text/html": [
       "<div>\n",
       "<style scoped>\n",
       "    .dataframe tbody tr th:only-of-type {\n",
       "        vertical-align: middle;\n",
       "    }\n",
       "\n",
       "    .dataframe tbody tr th {\n",
       "        vertical-align: top;\n",
       "    }\n",
       "\n",
       "    .dataframe thead th {\n",
       "        text-align: right;\n",
       "    }\n",
       "</style>\n",
       "<table border=\"1\" class=\"dataframe\">\n",
       "  <thead>\n",
       "    <tr style=\"text-align: right;\">\n",
       "      <th></th>\n",
       "      <th>Predicted Negative</th>\n",
       "      <th>Predicted Positive</th>\n",
       "    </tr>\n",
       "  </thead>\n",
       "  <tbody>\n",
       "    <tr>\n",
       "      <th>Actual Negative</th>\n",
       "      <td>590</td>\n",
       "      <td>146</td>\n",
       "    </tr>\n",
       "    <tr>\n",
       "      <th>Actual Positive</th>\n",
       "      <td>251</td>\n",
       "      <td>225</td>\n",
       "    </tr>\n",
       "  </tbody>\n",
       "</table>\n",
       "</div>"
      ],
      "text/plain": [
       "                Predicted Negative Predicted Positive\n",
       "Actual Negative                590                146\n",
       "Actual Positive                251                225"
      ]
     },
     "execution_count": 48,
     "metadata": {},
     "output_type": "execute_result"
    }
   ],
   "source": [
    "y_one_predict_tcnb = rs_tv_cnb.predict(X_one_test_cleaned)\n",
    "confusion_table(y_one_test, y_one_predict_tcnb)"
   ]
  },
  {
   "cell_type": "code",
   "execution_count": 49,
   "metadata": {},
   "outputs": [
    {
     "data": {
      "text/html": [
       "<div>\n",
       "<style scoped>\n",
       "    .dataframe tbody tr th:only-of-type {\n",
       "        vertical-align: middle;\n",
       "    }\n",
       "\n",
       "    .dataframe tbody tr th {\n",
       "        vertical-align: top;\n",
       "    }\n",
       "\n",
       "    .dataframe thead th {\n",
       "        text-align: right;\n",
       "    }\n",
       "</style>\n",
       "<table border=\"1\" class=\"dataframe\">\n",
       "  <thead>\n",
       "    <tr style=\"text-align: right;\">\n",
       "      <th></th>\n",
       "      <th>precision</th>\n",
       "      <th>recall</th>\n",
       "      <th>f1-score</th>\n",
       "      <th>support</th>\n",
       "    </tr>\n",
       "  </thead>\n",
       "  <tbody>\n",
       "    <tr>\n",
       "      <th>0</th>\n",
       "      <td>0.801630</td>\n",
       "      <td>0.701546</td>\n",
       "      <td>0.748256</td>\n",
       "      <td>841.000000</td>\n",
       "    </tr>\n",
       "    <tr>\n",
       "      <th>1</th>\n",
       "      <td>0.472689</td>\n",
       "      <td>0.606469</td>\n",
       "      <td>0.531287</td>\n",
       "      <td>371.000000</td>\n",
       "    </tr>\n",
       "    <tr>\n",
       "      <th>accuracy</th>\n",
       "      <td>0.672442</td>\n",
       "      <td>0.672442</td>\n",
       "      <td>0.672442</td>\n",
       "      <td>0.672442</td>\n",
       "    </tr>\n",
       "    <tr>\n",
       "      <th>macro avg</th>\n",
       "      <td>0.637160</td>\n",
       "      <td>0.654007</td>\n",
       "      <td>0.639772</td>\n",
       "      <td>1212.000000</td>\n",
       "    </tr>\n",
       "    <tr>\n",
       "      <th>weighted avg</th>\n",
       "      <td>0.700940</td>\n",
       "      <td>0.672442</td>\n",
       "      <td>0.681841</td>\n",
       "      <td>1212.000000</td>\n",
       "    </tr>\n",
       "  </tbody>\n",
       "</table>\n",
       "</div>"
      ],
      "text/plain": [
       "              precision    recall  f1-score      support\n",
       "0              0.801630  0.701546  0.748256   841.000000\n",
       "1              0.472689  0.606469  0.531287   371.000000\n",
       "accuracy       0.672442  0.672442  0.672442     0.672442\n",
       "macro avg      0.637160  0.654007  0.639772  1212.000000\n",
       "weighted avg   0.700940  0.672442  0.681841  1212.000000"
      ]
     },
     "execution_count": 49,
     "metadata": {},
     "output_type": "execute_result"
    }
   ],
   "source": [
    "tvcnb_class_report = class_report(y_one_predict_tcnb, y_one_test)\n",
    "tvcnb_class_report"
   ]
  },
  {
   "cell_type": "markdown",
   "metadata": {},
   "source": [
    "## SVM with Count Vectorizer"
   ]
  },
  {
   "cell_type": "code",
   "execution_count": 50,
   "metadata": {},
   "outputs": [],
   "source": [
    "pipe_cv_svc = Pipeline([\n",
    "    ('cvec', CountVectorizer()),\n",
    "    ('svc', SVC())\n",
    "])\n",
    "\n",
    "pipe_params_cv_svc = {\n",
    "    'cvec__max_features': [400, 500, 600, 700],\n",
    "    'cvec__min_df': [1, 2, 3, 4],\n",
    "    'cvec__max_df': [0.85,.9, .95],\n",
    "    'cvec__ngram_range': [(1,1), (1,2)],\n",
    "    'svc__kernel':['linear', 'poly', 'rbf', 'sigmoid'],\n",
    "    'svc__class_weight':['balanced',{1:1.25},{1:1.5},{1:1.75}]\n",
    "}\n"
   ]
  },
  {
   "cell_type": "code",
   "execution_count": 52,
   "metadata": {},
   "outputs": [
    {
     "name": "stdout",
     "output_type": "stream",
     "text": [
      "0.7244690243689869\n"
     ]
    },
    {
     "data": {
      "text/plain": [
       "{'svc__kernel': 'rbf',\n",
       " 'svc__class_weight': {1: 1.5},\n",
       " 'cvec__ngram_range': (1, 1),\n",
       " 'cvec__min_df': 1,\n",
       " 'cvec__max_features': 400,\n",
       " 'cvec__max_df': 0.95}"
      ]
     },
     "execution_count": 52,
     "metadata": {},
     "output_type": "execute_result"
    }
   ],
   "source": [
    "rs_cv_svc = RandomizedSearchCV(pipe_cv_svc, param_distributions=pipe_params_cv_svc, cv=5)\n",
    "rs_cv_svc.fit(X_one_train_cleaned, y_one_train)\n",
    "print(rs_cv_svc.best_score_)\n",
    "rs_cv_svc.best_params_"
   ]
  },
  {
   "cell_type": "code",
   "execution_count": 53,
   "metadata": {},
   "outputs": [
    {
     "name": "stdout",
     "output_type": "stream",
     "text": [
      "Train accuracy score: 86.0446%\n",
      "Test accuracy score: 71.9472%\n"
     ]
    }
   ],
   "source": [
    "print(f'Train accuracy score: {round(rs_cv_svc.score(X_one_train_cleaned, y_one_train)*100,4)}%')\n",
    "print(f'Test accuracy score: {round(rs_cv_svc.score(X_one_test_cleaned, y_one_test)*100,4)}%')"
   ]
  },
  {
   "cell_type": "code",
   "execution_count": 54,
   "metadata": {},
   "outputs": [
    {
     "name": "stdout",
     "output_type": "stream",
     "text": [
      "True Negatives: 741\n",
      "False Negatives: 100\n",
      "False Positives: 240\n",
      "True Positives: 131\n"
     ]
    },
    {
     "data": {
      "text/html": [
       "<div>\n",
       "<style scoped>\n",
       "    .dataframe tbody tr th:only-of-type {\n",
       "        vertical-align: middle;\n",
       "    }\n",
       "\n",
       "    .dataframe tbody tr th {\n",
       "        vertical-align: top;\n",
       "    }\n",
       "\n",
       "    .dataframe thead th {\n",
       "        text-align: right;\n",
       "    }\n",
       "</style>\n",
       "<table border=\"1\" class=\"dataframe\">\n",
       "  <thead>\n",
       "    <tr style=\"text-align: right;\">\n",
       "      <th></th>\n",
       "      <th>Predicted Negative</th>\n",
       "      <th>Predicted Positive</th>\n",
       "    </tr>\n",
       "  </thead>\n",
       "  <tbody>\n",
       "    <tr>\n",
       "      <th>Actual Negative</th>\n",
       "      <td>741</td>\n",
       "      <td>240</td>\n",
       "    </tr>\n",
       "    <tr>\n",
       "      <th>Actual Positive</th>\n",
       "      <td>100</td>\n",
       "      <td>131</td>\n",
       "    </tr>\n",
       "  </tbody>\n",
       "</table>\n",
       "</div>"
      ],
      "text/plain": [
       "                Predicted Negative Predicted Positive\n",
       "Actual Negative                741                240\n",
       "Actual Positive                100                131"
      ]
     },
     "execution_count": 54,
     "metadata": {},
     "output_type": "execute_result"
    }
   ],
   "source": [
    "y_one_predict_csvc = rs_cv_svc.predict(X_one_test_cleaned)\n",
    "confusion_table(y_one_test, y_one_predict_csvc)"
   ]
  },
  {
   "cell_type": "code",
   "execution_count": 55,
   "metadata": {},
   "outputs": [
    {
     "data": {
      "text/html": [
       "<div>\n",
       "<style scoped>\n",
       "    .dataframe tbody tr th:only-of-type {\n",
       "        vertical-align: middle;\n",
       "    }\n",
       "\n",
       "    .dataframe tbody tr th {\n",
       "        vertical-align: top;\n",
       "    }\n",
       "\n",
       "    .dataframe thead th {\n",
       "        text-align: right;\n",
       "    }\n",
       "</style>\n",
       "<table border=\"1\" class=\"dataframe\">\n",
       "  <thead>\n",
       "    <tr style=\"text-align: right;\">\n",
       "      <th></th>\n",
       "      <th>precision</th>\n",
       "      <th>recall</th>\n",
       "      <th>f1-score</th>\n",
       "      <th>support</th>\n",
       "    </tr>\n",
       "  </thead>\n",
       "  <tbody>\n",
       "    <tr>\n",
       "      <th>0</th>\n",
       "      <td>0.755352</td>\n",
       "      <td>0.881094</td>\n",
       "      <td>0.813392</td>\n",
       "      <td>841.000000</td>\n",
       "    </tr>\n",
       "    <tr>\n",
       "      <th>1</th>\n",
       "      <td>0.567100</td>\n",
       "      <td>0.353100</td>\n",
       "      <td>0.435216</td>\n",
       "      <td>371.000000</td>\n",
       "    </tr>\n",
       "    <tr>\n",
       "      <th>accuracy</th>\n",
       "      <td>0.719472</td>\n",
       "      <td>0.719472</td>\n",
       "      <td>0.719472</td>\n",
       "      <td>0.719472</td>\n",
       "    </tr>\n",
       "    <tr>\n",
       "      <th>macro avg</th>\n",
       "      <td>0.661226</td>\n",
       "      <td>0.617097</td>\n",
       "      <td>0.624304</td>\n",
       "      <td>1212.000000</td>\n",
       "    </tr>\n",
       "    <tr>\n",
       "      <th>weighted avg</th>\n",
       "      <td>0.697727</td>\n",
       "      <td>0.719472</td>\n",
       "      <td>0.697630</td>\n",
       "      <td>1212.000000</td>\n",
       "    </tr>\n",
       "  </tbody>\n",
       "</table>\n",
       "</div>"
      ],
      "text/plain": [
       "              precision    recall  f1-score      support\n",
       "0              0.755352  0.881094  0.813392   841.000000\n",
       "1              0.567100  0.353100  0.435216   371.000000\n",
       "accuracy       0.719472  0.719472  0.719472     0.719472\n",
       "macro avg      0.661226  0.617097  0.624304  1212.000000\n",
       "weighted avg   0.697727  0.719472  0.697630  1212.000000"
      ]
     },
     "execution_count": 55,
     "metadata": {},
     "output_type": "execute_result"
    }
   ],
   "source": [
    "cvsvc_class_report = class_report(y_one_predict_csvc, y_one_test)\n",
    "cvsvc_class_report"
   ]
  },
  {
   "cell_type": "markdown",
   "metadata": {},
   "source": [
    "## SVM with TFIDF Vectorizer\n"
   ]
  },
  {
   "cell_type": "code",
   "execution_count": 56,
   "metadata": {},
   "outputs": [],
   "source": [
    "pipe_tv_svc = Pipeline([\n",
    "    ('tvec', TfidfVectorizer()),\n",
    "    ('svc', SVC())\n",
    "])\n",
    "\n",
    "pipe_params_tv_svc = {\n",
    "    'tvec__max_features': [400, 500, 600, 700],\n",
    "    'tvec__min_df': [1, 2, 3, 4],\n",
    "    'tvec__max_df': [0.85,.9, .95],\n",
    "    'tvec__ngram_range': [(1,1), (1,2)],\n",
    "    'svc__kernel':['linear', 'poly', 'rbf', 'sigmoid'],\n",
    "    'svc__class_weight':['balanced',{1:1.25},{1:1.5},{1:1.75}]\n",
    "}\n"
   ]
  },
  {
   "cell_type": "code",
   "execution_count": 57,
   "metadata": {},
   "outputs": [
    {
     "name": "stdout",
     "output_type": "stream",
     "text": [
      "0.7197865866366554\n"
     ]
    },
    {
     "data": {
      "text/plain": [
       "{'tvec__ngram_range': (1, 2),\n",
       " 'tvec__min_df': 2,\n",
       " 'tvec__max_features': 500,\n",
       " 'tvec__max_df': 0.9,\n",
       " 'svc__kernel': 'poly',\n",
       " 'svc__class_weight': {1: 1.25}}"
      ]
     },
     "execution_count": 57,
     "metadata": {},
     "output_type": "execute_result"
    }
   ],
   "source": [
    "rs_tv_svc = RandomizedSearchCV(pipe_tv_svc, param_distributions=pipe_params_tv_svc, cv=5)\n",
    "rs_tv_svc.fit(X_one_train_cleaned, y_one_train)\n",
    "print(rs_tv_svc.best_score_)\n",
    "rs_tv_svc.best_params_"
   ]
  },
  {
   "cell_type": "code",
   "execution_count": 58,
   "metadata": {},
   "outputs": [
    {
     "name": "stdout",
     "output_type": "stream",
     "text": [
      "Train accuracy score: 99.5596%\n",
      "Test accuracy score: 70.6271%\n"
     ]
    }
   ],
   "source": [
    "print(f'Train accuracy score: {round(rs_tv_svc.score(X_one_train_cleaned, y_one_train)*100,4)}%')\n",
    "print(f'Test accuracy score: {round(rs_tv_svc.score(X_one_test_cleaned, y_one_test)*100,4)}%')"
   ]
  },
  {
   "cell_type": "code",
   "execution_count": 59,
   "metadata": {},
   "outputs": [
    {
     "name": "stdout",
     "output_type": "stream",
     "text": [
      "True Negatives: 758\n",
      "False Negatives: 83\n",
      "False Positives: 273\n",
      "True Positives: 98\n"
     ]
    },
    {
     "data": {
      "text/html": [
       "<div>\n",
       "<style scoped>\n",
       "    .dataframe tbody tr th:only-of-type {\n",
       "        vertical-align: middle;\n",
       "    }\n",
       "\n",
       "    .dataframe tbody tr th {\n",
       "        vertical-align: top;\n",
       "    }\n",
       "\n",
       "    .dataframe thead th {\n",
       "        text-align: right;\n",
       "    }\n",
       "</style>\n",
       "<table border=\"1\" class=\"dataframe\">\n",
       "  <thead>\n",
       "    <tr style=\"text-align: right;\">\n",
       "      <th></th>\n",
       "      <th>Predicted Negative</th>\n",
       "      <th>Predicted Positive</th>\n",
       "    </tr>\n",
       "  </thead>\n",
       "  <tbody>\n",
       "    <tr>\n",
       "      <th>Actual Negative</th>\n",
       "      <td>758</td>\n",
       "      <td>273</td>\n",
       "    </tr>\n",
       "    <tr>\n",
       "      <th>Actual Positive</th>\n",
       "      <td>83</td>\n",
       "      <td>98</td>\n",
       "    </tr>\n",
       "  </tbody>\n",
       "</table>\n",
       "</div>"
      ],
      "text/plain": [
       "                Predicted Negative Predicted Positive\n",
       "Actual Negative                758                273\n",
       "Actual Positive                 83                 98"
      ]
     },
     "execution_count": 59,
     "metadata": {},
     "output_type": "execute_result"
    }
   ],
   "source": [
    "y_one_predict_tsvc = rs_tv_svc.predict(X_one_test_cleaned)\n",
    "confusion_table(y_one_test, y_one_predict_tsvc)"
   ]
  },
  {
   "cell_type": "code",
   "execution_count": 60,
   "metadata": {},
   "outputs": [
    {
     "data": {
      "text/html": [
       "<div>\n",
       "<style scoped>\n",
       "    .dataframe tbody tr th:only-of-type {\n",
       "        vertical-align: middle;\n",
       "    }\n",
       "\n",
       "    .dataframe tbody tr th {\n",
       "        vertical-align: top;\n",
       "    }\n",
       "\n",
       "    .dataframe thead th {\n",
       "        text-align: right;\n",
       "    }\n",
       "</style>\n",
       "<table border=\"1\" class=\"dataframe\">\n",
       "  <thead>\n",
       "    <tr style=\"text-align: right;\">\n",
       "      <th></th>\n",
       "      <th>precision</th>\n",
       "      <th>recall</th>\n",
       "      <th>f1-score</th>\n",
       "      <th>support</th>\n",
       "    </tr>\n",
       "  </thead>\n",
       "  <tbody>\n",
       "    <tr>\n",
       "      <th>0</th>\n",
       "      <td>0.735209</td>\n",
       "      <td>0.901308</td>\n",
       "      <td>0.809829</td>\n",
       "      <td>841.000000</td>\n",
       "    </tr>\n",
       "    <tr>\n",
       "      <th>1</th>\n",
       "      <td>0.541436</td>\n",
       "      <td>0.264151</td>\n",
       "      <td>0.355072</td>\n",
       "      <td>371.000000</td>\n",
       "    </tr>\n",
       "    <tr>\n",
       "      <th>accuracy</th>\n",
       "      <td>0.706271</td>\n",
       "      <td>0.706271</td>\n",
       "      <td>0.706271</td>\n",
       "      <td>0.706271</td>\n",
       "    </tr>\n",
       "    <tr>\n",
       "      <th>macro avg</th>\n",
       "      <td>0.638322</td>\n",
       "      <td>0.582729</td>\n",
       "      <td>0.582451</td>\n",
       "      <td>1212.000000</td>\n",
       "    </tr>\n",
       "    <tr>\n",
       "      <th>weighted avg</th>\n",
       "      <td>0.675894</td>\n",
       "      <td>0.706271</td>\n",
       "      <td>0.670626</td>\n",
       "      <td>1212.000000</td>\n",
       "    </tr>\n",
       "  </tbody>\n",
       "</table>\n",
       "</div>"
      ],
      "text/plain": [
       "              precision    recall  f1-score      support\n",
       "0              0.735209  0.901308  0.809829   841.000000\n",
       "1              0.541436  0.264151  0.355072   371.000000\n",
       "accuracy       0.706271  0.706271  0.706271     0.706271\n",
       "macro avg      0.638322  0.582729  0.582451  1212.000000\n",
       "weighted avg   0.675894  0.706271  0.670626  1212.000000"
      ]
     },
     "execution_count": 60,
     "metadata": {},
     "output_type": "execute_result"
    }
   ],
   "source": [
    "tvsvc_class_report = class_report(y_one_predict_tsvc, y_one_test)\n",
    "tvsvc_class_report"
   ]
  },
  {
   "cell_type": "markdown",
   "metadata": {},
   "source": [
    "### XGBoost with Count Vectorizer"
   ]
  },
  {
   "cell_type": "code",
   "execution_count": 73,
   "metadata": {},
   "outputs": [],
   "source": [
    "pipe_cv_xgb = Pipeline([\n",
    "    ('cvec', CountVectorizer()),\n",
    "    ('xgb', XGBClassifier())\n",
    "])\n",
    "\n",
    "pipe_params_cv_xgb = {\n",
    "    'cvec__max_features': [400, 500, 600, 700],\n",
    "    'cvec__min_df': [1, 2, 3, 4],\n",
    "    'cvec__max_df': [0.85,.9, .95],\n",
    "    'cvec__ngram_range': [(1,1), (1,2)],\n",
    "    'xgb__n_estimators' : [200,300,400,500],\n",
    "    'xgb__max_features': ['auto','sqrt','log2',None],\n",
    "    'xgb__leaning_rate':[1,2,3,4]\n",
    "}\n"
   ]
  },
  {
   "cell_type": "code",
   "execution_count": 74,
   "metadata": {},
   "outputs": [
    {
     "name": "stdout",
     "output_type": "stream",
     "text": [
      "0.7228184053868685\n"
     ]
    },
    {
     "data": {
      "text/plain": [
       "{'xgb__n_estimators': 300,\n",
       " 'xgb__max_features': 'log2',\n",
       " 'xgb__leaning_rate': 1,\n",
       " 'cvec__ngram_range': (1, 2),\n",
       " 'cvec__min_df': 3,\n",
       " 'cvec__max_features': 600,\n",
       " 'cvec__max_df': 0.85}"
      ]
     },
     "execution_count": 74,
     "metadata": {},
     "output_type": "execute_result"
    }
   ],
   "source": [
    "rs_cv_xgb = RandomizedSearchCV(pipe_cv_xgb, param_distributions=pipe_params_cv_xgb, cv=5)\n",
    "rs_cv_xgb.fit(X_one_train_cleaned, y_one_train)\n",
    "print(rs_cv_xgb.best_score_)\n",
    "rs_cv_xgb.best_params_"
   ]
  },
  {
   "cell_type": "code",
   "execution_count": 75,
   "metadata": {},
   "outputs": [
    {
     "name": "stdout",
     "output_type": "stream",
     "text": [
      "Train accuracy score: 87.531%\n",
      "Test accuracy score: 72.1947%\n"
     ]
    }
   ],
   "source": [
    "print(f'Train accuracy score: {round(rs_cv_xgb.score(X_one_train_cleaned, y_one_train)*100,4)}%')\n",
    "print(f'Test accuracy score: {round(rs_cv_xgb.score(X_one_test_cleaned, y_one_test)*100,4)}%')"
   ]
  },
  {
   "cell_type": "code",
   "execution_count": 76,
   "metadata": {
    "scrolled": true
   },
   "outputs": [
    {
     "name": "stdout",
     "output_type": "stream",
     "text": [
      "True Negatives: 752\n",
      "False Negatives: 89\n",
      "False Positives: 248\n",
      "True Positives: 123\n"
     ]
    },
    {
     "data": {
      "text/html": [
       "<div>\n",
       "<style scoped>\n",
       "    .dataframe tbody tr th:only-of-type {\n",
       "        vertical-align: middle;\n",
       "    }\n",
       "\n",
       "    .dataframe tbody tr th {\n",
       "        vertical-align: top;\n",
       "    }\n",
       "\n",
       "    .dataframe thead th {\n",
       "        text-align: right;\n",
       "    }\n",
       "</style>\n",
       "<table border=\"1\" class=\"dataframe\">\n",
       "  <thead>\n",
       "    <tr style=\"text-align: right;\">\n",
       "      <th></th>\n",
       "      <th>Predicted Negative</th>\n",
       "      <th>Predicted Positive</th>\n",
       "    </tr>\n",
       "  </thead>\n",
       "  <tbody>\n",
       "    <tr>\n",
       "      <th>Actual Negative</th>\n",
       "      <td>752</td>\n",
       "      <td>248</td>\n",
       "    </tr>\n",
       "    <tr>\n",
       "      <th>Actual Positive</th>\n",
       "      <td>89</td>\n",
       "      <td>123</td>\n",
       "    </tr>\n",
       "  </tbody>\n",
       "</table>\n",
       "</div>"
      ],
      "text/plain": [
       "                Predicted Negative Predicted Positive\n",
       "Actual Negative                752                248\n",
       "Actual Positive                 89                123"
      ]
     },
     "execution_count": 76,
     "metadata": {},
     "output_type": "execute_result"
    }
   ],
   "source": [
    "y_one_predict_cxgb = rs_cv_xgb.predict(X_one_test_cleaned)\n",
    "confusion_table(y_one_test, y_one_predict_cxgb)"
   ]
  },
  {
   "cell_type": "code",
   "execution_count": 77,
   "metadata": {},
   "outputs": [
    {
     "data": {
      "text/html": [
       "<div>\n",
       "<style scoped>\n",
       "    .dataframe tbody tr th:only-of-type {\n",
       "        vertical-align: middle;\n",
       "    }\n",
       "\n",
       "    .dataframe tbody tr th {\n",
       "        vertical-align: top;\n",
       "    }\n",
       "\n",
       "    .dataframe thead th {\n",
       "        text-align: right;\n",
       "    }\n",
       "</style>\n",
       "<table border=\"1\" class=\"dataframe\">\n",
       "  <thead>\n",
       "    <tr style=\"text-align: right;\">\n",
       "      <th></th>\n",
       "      <th>precision</th>\n",
       "      <th>recall</th>\n",
       "      <th>f1-score</th>\n",
       "      <th>support</th>\n",
       "    </tr>\n",
       "  </thead>\n",
       "  <tbody>\n",
       "    <tr>\n",
       "      <th>0</th>\n",
       "      <td>0.752000</td>\n",
       "      <td>0.894174</td>\n",
       "      <td>0.816947</td>\n",
       "      <td>841.000000</td>\n",
       "    </tr>\n",
       "    <tr>\n",
       "      <th>1</th>\n",
       "      <td>0.580189</td>\n",
       "      <td>0.331536</td>\n",
       "      <td>0.421955</td>\n",
       "      <td>371.000000</td>\n",
       "    </tr>\n",
       "    <tr>\n",
       "      <th>accuracy</th>\n",
       "      <td>0.721947</td>\n",
       "      <td>0.721947</td>\n",
       "      <td>0.721947</td>\n",
       "      <td>0.721947</td>\n",
       "    </tr>\n",
       "    <tr>\n",
       "      <th>macro avg</th>\n",
       "      <td>0.666094</td>\n",
       "      <td>0.612855</td>\n",
       "      <td>0.619451</td>\n",
       "      <td>1212.000000</td>\n",
       "    </tr>\n",
       "    <tr>\n",
       "      <th>weighted avg</th>\n",
       "      <td>0.699408</td>\n",
       "      <td>0.721947</td>\n",
       "      <td>0.696038</td>\n",
       "      <td>1212.000000</td>\n",
       "    </tr>\n",
       "  </tbody>\n",
       "</table>\n",
       "</div>"
      ],
      "text/plain": [
       "              precision    recall  f1-score      support\n",
       "0              0.752000  0.894174  0.816947   841.000000\n",
       "1              0.580189  0.331536  0.421955   371.000000\n",
       "accuracy       0.721947  0.721947  0.721947     0.721947\n",
       "macro avg      0.666094  0.612855  0.619451  1212.000000\n",
       "weighted avg   0.699408  0.721947  0.696038  1212.000000"
      ]
     },
     "execution_count": 77,
     "metadata": {},
     "output_type": "execute_result"
    }
   ],
   "source": [
    "cxgb_class_report = class_report(y_one_predict_cxgb, y_one_test)\n",
    "cxgb_class_report"
   ]
  },
  {
   "cell_type": "markdown",
   "metadata": {},
   "source": [
    "### XGBoost with TFIDF Vectorizer"
   ]
  },
  {
   "cell_type": "code",
   "execution_count": 78,
   "metadata": {},
   "outputs": [],
   "source": [
    "pipe_tv_xgb = Pipeline([\n",
    "    ('tvec', TfidfVectorizer()),\n",
    "    ('xgb', XGBClassifier())\n",
    "])\n",
    "\n",
    "pipe_params_tv_xgb = {\n",
    "    'tvec__max_features': [400, 500, 600, 700],\n",
    "    'tvec__min_df': [1, 2, 3, 4],\n",
    "    'tvec__max_df': [0.85,.9, .95],\n",
    "    'tvec__ngram_range': [(1,1), (1,2)],\n",
    "    'xgb__n_estimators' : [200,300,400,500],\n",
    "    'xgb__max_features': ['auto','sqrt','log2',None],\n",
    "    'xgb__leaning_rate':[1,2,3,4]\n",
    "}\n"
   ]
  },
  {
   "cell_type": "code",
   "execution_count": 79,
   "metadata": {},
   "outputs": [
    {
     "name": "stdout",
     "output_type": "stream",
     "text": [
      "0.7206168222174224\n"
     ]
    },
    {
     "data": {
      "text/plain": [
       "{'xgb__n_estimators': 200,\n",
       " 'xgb__max_features': None,\n",
       " 'xgb__leaning_rate': 3,\n",
       " 'tvec__ngram_range': (1, 2),\n",
       " 'tvec__min_df': 1,\n",
       " 'tvec__max_features': 500,\n",
       " 'tvec__max_df': 0.95}"
      ]
     },
     "execution_count": 79,
     "metadata": {},
     "output_type": "execute_result"
    }
   ],
   "source": [
    "rs_tv_xgb = RandomizedSearchCV(pipe_tv_xgb, param_distributions=pipe_params_tv_xgb, cv=5)\n",
    "rs_tv_xgb.fit(X_one_train_cleaned, y_one_train)\n",
    "print(rs_tv_xgb.best_score_)\n",
    "rs_tv_xgb.best_params_"
   ]
  },
  {
   "cell_type": "code",
   "execution_count": 80,
   "metadata": {},
   "outputs": [
    {
     "name": "stdout",
     "output_type": "stream",
     "text": [
      "Train accuracy score: 87.531%\n",
      "Test accuracy score: 71.4521%\n"
     ]
    }
   ],
   "source": [
    "print(f'Train accuracy score: {round(rs_tv_xgb.score(X_one_train_cleaned, y_one_train)*100,4)}%')\n",
    "print(f'Test accuracy score: {round(rs_tv_xgb.score(X_one_test_cleaned, y_one_test)*100,4)}%')"
   ]
  },
  {
   "cell_type": "code",
   "execution_count": 81,
   "metadata": {
    "scrolled": true
   },
   "outputs": [
    {
     "name": "stdout",
     "output_type": "stream",
     "text": [
      "True Negatives: 756\n",
      "False Negatives: 85\n",
      "False Positives: 261\n",
      "True Positives: 110\n"
     ]
    },
    {
     "data": {
      "text/html": [
       "<div>\n",
       "<style scoped>\n",
       "    .dataframe tbody tr th:only-of-type {\n",
       "        vertical-align: middle;\n",
       "    }\n",
       "\n",
       "    .dataframe tbody tr th {\n",
       "        vertical-align: top;\n",
       "    }\n",
       "\n",
       "    .dataframe thead th {\n",
       "        text-align: right;\n",
       "    }\n",
       "</style>\n",
       "<table border=\"1\" class=\"dataframe\">\n",
       "  <thead>\n",
       "    <tr style=\"text-align: right;\">\n",
       "      <th></th>\n",
       "      <th>Predicted Negative</th>\n",
       "      <th>Predicted Positive</th>\n",
       "    </tr>\n",
       "  </thead>\n",
       "  <tbody>\n",
       "    <tr>\n",
       "      <th>Actual Negative</th>\n",
       "      <td>756</td>\n",
       "      <td>261</td>\n",
       "    </tr>\n",
       "    <tr>\n",
       "      <th>Actual Positive</th>\n",
       "      <td>85</td>\n",
       "      <td>110</td>\n",
       "    </tr>\n",
       "  </tbody>\n",
       "</table>\n",
       "</div>"
      ],
      "text/plain": [
       "                Predicted Negative Predicted Positive\n",
       "Actual Negative                756                261\n",
       "Actual Positive                 85                110"
      ]
     },
     "execution_count": 81,
     "metadata": {},
     "output_type": "execute_result"
    }
   ],
   "source": [
    "y_one_predict_txgb = rs_tv_xgb.predict(X_one_test_cleaned)\n",
    "confusion_table(y_one_test, y_one_predict_txgb)"
   ]
  },
  {
   "cell_type": "code",
   "execution_count": 82,
   "metadata": {},
   "outputs": [
    {
     "data": {
      "text/html": [
       "<div>\n",
       "<style scoped>\n",
       "    .dataframe tbody tr th:only-of-type {\n",
       "        vertical-align: middle;\n",
       "    }\n",
       "\n",
       "    .dataframe tbody tr th {\n",
       "        vertical-align: top;\n",
       "    }\n",
       "\n",
       "    .dataframe thead th {\n",
       "        text-align: right;\n",
       "    }\n",
       "</style>\n",
       "<table border=\"1\" class=\"dataframe\">\n",
       "  <thead>\n",
       "    <tr style=\"text-align: right;\">\n",
       "      <th></th>\n",
       "      <th>precision</th>\n",
       "      <th>recall</th>\n",
       "      <th>f1-score</th>\n",
       "      <th>support</th>\n",
       "    </tr>\n",
       "  </thead>\n",
       "  <tbody>\n",
       "    <tr>\n",
       "      <th>0</th>\n",
       "      <td>0.743363</td>\n",
       "      <td>0.898930</td>\n",
       "      <td>0.813778</td>\n",
       "      <td>841.000000</td>\n",
       "    </tr>\n",
       "    <tr>\n",
       "      <th>1</th>\n",
       "      <td>0.564103</td>\n",
       "      <td>0.296496</td>\n",
       "      <td>0.388693</td>\n",
       "      <td>371.000000</td>\n",
       "    </tr>\n",
       "    <tr>\n",
       "      <th>accuracy</th>\n",
       "      <td>0.714521</td>\n",
       "      <td>0.714521</td>\n",
       "      <td>0.714521</td>\n",
       "      <td>0.714521</td>\n",
       "    </tr>\n",
       "    <tr>\n",
       "      <th>macro avg</th>\n",
       "      <td>0.653733</td>\n",
       "      <td>0.597713</td>\n",
       "      <td>0.601235</td>\n",
       "      <td>1212.000000</td>\n",
       "    </tr>\n",
       "    <tr>\n",
       "      <th>weighted avg</th>\n",
       "      <td>0.688490</td>\n",
       "      <td>0.714521</td>\n",
       "      <td>0.683657</td>\n",
       "      <td>1212.000000</td>\n",
       "    </tr>\n",
       "  </tbody>\n",
       "</table>\n",
       "</div>"
      ],
      "text/plain": [
       "              precision    recall  f1-score      support\n",
       "0              0.743363  0.898930  0.813778   841.000000\n",
       "1              0.564103  0.296496  0.388693   371.000000\n",
       "accuracy       0.714521  0.714521  0.714521     0.714521\n",
       "macro avg      0.653733  0.597713  0.601235  1212.000000\n",
       "weighted avg   0.688490  0.714521  0.683657  1212.000000"
      ]
     },
     "execution_count": 82,
     "metadata": {},
     "output_type": "execute_result"
    }
   ],
   "source": [
    "txgb_class_report = class_report(y_one_predict_txgb, y_one_test)\n",
    "txgb_class_report"
   ]
  },
  {
   "cell_type": "markdown",
   "metadata": {},
   "source": [
    "### All models comparing classification report \n",
    "- Precision score\n",
    "- Recall score\n",
    "- Accuracy score"
   ]
  },
  {
   "cell_type": "code",
   "execution_count": 83,
   "metadata": {},
   "outputs": [
    {
     "data": {
      "text/html": [
       "<div>\n",
       "<style scoped>\n",
       "    .dataframe tbody tr th:only-of-type {\n",
       "        vertical-align: middle;\n",
       "    }\n",
       "\n",
       "    .dataframe tbody tr th {\n",
       "        vertical-align: top;\n",
       "    }\n",
       "\n",
       "    .dataframe thead th {\n",
       "        text-align: right;\n",
       "    }\n",
       "</style>\n",
       "<table border=\"1\" class=\"dataframe\">\n",
       "  <thead>\n",
       "    <tr style=\"text-align: right;\">\n",
       "      <th></th>\n",
       "      <th>precision</th>\n",
       "      <th>recall</th>\n",
       "    </tr>\n",
       "  </thead>\n",
       "  <tbody>\n",
       "    <tr>\n",
       "      <th>0</th>\n",
       "      <td>0.762120</td>\n",
       "      <td>0.803805</td>\n",
       "    </tr>\n",
       "    <tr>\n",
       "      <th>1</th>\n",
       "      <td>0.492308</td>\n",
       "      <td>0.431267</td>\n",
       "    </tr>\n",
       "    <tr>\n",
       "      <th>accuracy</th>\n",
       "      <td>0.689769</td>\n",
       "      <td>0.689769</td>\n",
       "    </tr>\n",
       "  </tbody>\n",
       "</table>\n",
       "</div>"
      ],
      "text/plain": [
       "          precision    recall\n",
       "0          0.762120  0.803805\n",
       "1          0.492308  0.431267\n",
       "accuracy   0.689769  0.689769"
      ]
     },
     "metadata": {},
     "output_type": "display_data"
    },
    {
     "name": "stdout",
     "output_type": "stream",
     "text": [
      "Logistic Regression with Count Vectorizer\n"
     ]
    },
    {
     "data": {
      "text/html": [
       "<div>\n",
       "<style scoped>\n",
       "    .dataframe tbody tr th:only-of-type {\n",
       "        vertical-align: middle;\n",
       "    }\n",
       "\n",
       "    .dataframe tbody tr th {\n",
       "        vertical-align: top;\n",
       "    }\n",
       "\n",
       "    .dataframe thead th {\n",
       "        text-align: right;\n",
       "    }\n",
       "</style>\n",
       "<table border=\"1\" class=\"dataframe\">\n",
       "  <thead>\n",
       "    <tr style=\"text-align: right;\">\n",
       "      <th></th>\n",
       "      <th>precision</th>\n",
       "      <th>recall</th>\n",
       "    </tr>\n",
       "  </thead>\n",
       "  <tbody>\n",
       "    <tr>\n",
       "      <th>0</th>\n",
       "      <td>0.761364</td>\n",
       "      <td>0.876338</td>\n",
       "    </tr>\n",
       "    <tr>\n",
       "      <th>1</th>\n",
       "      <td>0.573770</td>\n",
       "      <td>0.377358</td>\n",
       "    </tr>\n",
       "    <tr>\n",
       "      <th>accuracy</th>\n",
       "      <td>0.723597</td>\n",
       "      <td>0.723597</td>\n",
       "    </tr>\n",
       "  </tbody>\n",
       "</table>\n",
       "</div>"
      ],
      "text/plain": [
       "          precision    recall\n",
       "0          0.761364  0.876338\n",
       "1          0.573770  0.377358\n",
       "accuracy   0.723597  0.723597"
      ]
     },
     "metadata": {},
     "output_type": "display_data"
    },
    {
     "name": "stdout",
     "output_type": "stream",
     "text": [
      "Logistic Regression with TFIDF Vectorizer\n"
     ]
    },
    {
     "data": {
      "text/html": [
       "<div>\n",
       "<style scoped>\n",
       "    .dataframe tbody tr th:only-of-type {\n",
       "        vertical-align: middle;\n",
       "    }\n",
       "\n",
       "    .dataframe tbody tr th {\n",
       "        vertical-align: top;\n",
       "    }\n",
       "\n",
       "    .dataframe thead th {\n",
       "        text-align: right;\n",
       "    }\n",
       "</style>\n",
       "<table border=\"1\" class=\"dataframe\">\n",
       "  <thead>\n",
       "    <tr style=\"text-align: right;\">\n",
       "      <th></th>\n",
       "      <th>precision</th>\n",
       "      <th>recall</th>\n",
       "    </tr>\n",
       "  </thead>\n",
       "  <tbody>\n",
       "    <tr>\n",
       "      <th>0</th>\n",
       "      <td>0.780401</td>\n",
       "      <td>0.785969</td>\n",
       "    </tr>\n",
       "    <tr>\n",
       "      <th>1</th>\n",
       "      <td>0.506849</td>\n",
       "      <td>0.498652</td>\n",
       "    </tr>\n",
       "    <tr>\n",
       "      <th>accuracy</th>\n",
       "      <td>0.698020</td>\n",
       "      <td>0.698020</td>\n",
       "    </tr>\n",
       "  </tbody>\n",
       "</table>\n",
       "</div>"
      ],
      "text/plain": [
       "          precision    recall\n",
       "0          0.780401  0.785969\n",
       "1          0.506849  0.498652\n",
       "accuracy   0.698020  0.698020"
      ]
     },
     "metadata": {},
     "output_type": "display_data"
    },
    {
     "name": "stdout",
     "output_type": "stream",
     "text": [
      "Naive Bayes (Multinomial) with Count Vectorizer\n"
     ]
    },
    {
     "data": {
      "text/html": [
       "<div>\n",
       "<style scoped>\n",
       "    .dataframe tbody tr th:only-of-type {\n",
       "        vertical-align: middle;\n",
       "    }\n",
       "\n",
       "    .dataframe tbody tr th {\n",
       "        vertical-align: top;\n",
       "    }\n",
       "\n",
       "    .dataframe thead th {\n",
       "        text-align: right;\n",
       "    }\n",
       "</style>\n",
       "<table border=\"1\" class=\"dataframe\">\n",
       "  <thead>\n",
       "    <tr style=\"text-align: right;\">\n",
       "      <th></th>\n",
       "      <th>precision</th>\n",
       "      <th>recall</th>\n",
       "    </tr>\n",
       "  </thead>\n",
       "  <tbody>\n",
       "    <tr>\n",
       "      <th>0</th>\n",
       "      <td>0.717145</td>\n",
       "      <td>0.979786</td>\n",
       "    </tr>\n",
       "    <tr>\n",
       "      <th>1</th>\n",
       "      <td>0.730159</td>\n",
       "      <td>0.123989</td>\n",
       "    </tr>\n",
       "    <tr>\n",
       "      <th>accuracy</th>\n",
       "      <td>0.717822</td>\n",
       "      <td>0.717822</td>\n",
       "    </tr>\n",
       "  </tbody>\n",
       "</table>\n",
       "</div>"
      ],
      "text/plain": [
       "          precision    recall\n",
       "0          0.717145  0.979786\n",
       "1          0.730159  0.123989\n",
       "accuracy   0.717822  0.717822"
      ]
     },
     "metadata": {},
     "output_type": "display_data"
    },
    {
     "name": "stdout",
     "output_type": "stream",
     "text": [
      "Naive Bayes (Multinomial) with TFIDF Vectorizer\n"
     ]
    },
    {
     "data": {
      "text/html": [
       "<div>\n",
       "<style scoped>\n",
       "    .dataframe tbody tr th:only-of-type {\n",
       "        vertical-align: middle;\n",
       "    }\n",
       "\n",
       "    .dataframe tbody tr th {\n",
       "        vertical-align: top;\n",
       "    }\n",
       "\n",
       "    .dataframe thead th {\n",
       "        text-align: right;\n",
       "    }\n",
       "</style>\n",
       "<table border=\"1\" class=\"dataframe\">\n",
       "  <thead>\n",
       "    <tr style=\"text-align: right;\">\n",
       "      <th></th>\n",
       "      <th>precision</th>\n",
       "      <th>recall</th>\n",
       "    </tr>\n",
       "  </thead>\n",
       "  <tbody>\n",
       "    <tr>\n",
       "      <th>0</th>\n",
       "      <td>0.788462</td>\n",
       "      <td>0.731272</td>\n",
       "    </tr>\n",
       "    <tr>\n",
       "      <th>1</th>\n",
       "      <td>0.476852</td>\n",
       "      <td>0.555256</td>\n",
       "    </tr>\n",
       "    <tr>\n",
       "      <th>accuracy</th>\n",
       "      <td>0.677393</td>\n",
       "      <td>0.677393</td>\n",
       "    </tr>\n",
       "  </tbody>\n",
       "</table>\n",
       "</div>"
      ],
      "text/plain": [
       "          precision    recall\n",
       "0          0.788462  0.731272\n",
       "1          0.476852  0.555256\n",
       "accuracy   0.677393  0.677393"
      ]
     },
     "metadata": {},
     "output_type": "display_data"
    },
    {
     "name": "stdout",
     "output_type": "stream",
     "text": [
      "Naive Bayes (Complement) with Count Vectorizer\n"
     ]
    },
    {
     "data": {
      "text/html": [
       "<div>\n",
       "<style scoped>\n",
       "    .dataframe tbody tr th:only-of-type {\n",
       "        vertical-align: middle;\n",
       "    }\n",
       "\n",
       "    .dataframe tbody tr th {\n",
       "        vertical-align: top;\n",
       "    }\n",
       "\n",
       "    .dataframe thead th {\n",
       "        text-align: right;\n",
       "    }\n",
       "</style>\n",
       "<table border=\"1\" class=\"dataframe\">\n",
       "  <thead>\n",
       "    <tr style=\"text-align: right;\">\n",
       "      <th></th>\n",
       "      <th>precision</th>\n",
       "      <th>recall</th>\n",
       "    </tr>\n",
       "  </thead>\n",
       "  <tbody>\n",
       "    <tr>\n",
       "      <th>0</th>\n",
       "      <td>0.801630</td>\n",
       "      <td>0.701546</td>\n",
       "    </tr>\n",
       "    <tr>\n",
       "      <th>1</th>\n",
       "      <td>0.472689</td>\n",
       "      <td>0.606469</td>\n",
       "    </tr>\n",
       "    <tr>\n",
       "      <th>accuracy</th>\n",
       "      <td>0.672442</td>\n",
       "      <td>0.672442</td>\n",
       "    </tr>\n",
       "  </tbody>\n",
       "</table>\n",
       "</div>"
      ],
      "text/plain": [
       "          precision    recall\n",
       "0          0.801630  0.701546\n",
       "1          0.472689  0.606469\n",
       "accuracy   0.672442  0.672442"
      ]
     },
     "metadata": {},
     "output_type": "display_data"
    },
    {
     "name": "stdout",
     "output_type": "stream",
     "text": [
      "Naive Bayes (Complement) with TFIDF Vectorizer\n"
     ]
    },
    {
     "data": {
      "text/html": [
       "<div>\n",
       "<style scoped>\n",
       "    .dataframe tbody tr th:only-of-type {\n",
       "        vertical-align: middle;\n",
       "    }\n",
       "\n",
       "    .dataframe tbody tr th {\n",
       "        vertical-align: top;\n",
       "    }\n",
       "\n",
       "    .dataframe thead th {\n",
       "        text-align: right;\n",
       "    }\n",
       "</style>\n",
       "<table border=\"1\" class=\"dataframe\">\n",
       "  <thead>\n",
       "    <tr style=\"text-align: right;\">\n",
       "      <th></th>\n",
       "      <th>precision</th>\n",
       "      <th>recall</th>\n",
       "    </tr>\n",
       "  </thead>\n",
       "  <tbody>\n",
       "    <tr>\n",
       "      <th>0</th>\n",
       "      <td>0.755352</td>\n",
       "      <td>0.881094</td>\n",
       "    </tr>\n",
       "    <tr>\n",
       "      <th>1</th>\n",
       "      <td>0.567100</td>\n",
       "      <td>0.353100</td>\n",
       "    </tr>\n",
       "    <tr>\n",
       "      <th>accuracy</th>\n",
       "      <td>0.719472</td>\n",
       "      <td>0.719472</td>\n",
       "    </tr>\n",
       "  </tbody>\n",
       "</table>\n",
       "</div>"
      ],
      "text/plain": [
       "          precision    recall\n",
       "0          0.755352  0.881094\n",
       "1          0.567100  0.353100\n",
       "accuracy   0.719472  0.719472"
      ]
     },
     "metadata": {},
     "output_type": "display_data"
    },
    {
     "name": "stdout",
     "output_type": "stream",
     "text": [
      "SVM SVC with Count Vectorizer\n"
     ]
    },
    {
     "data": {
      "text/html": [
       "<div>\n",
       "<style scoped>\n",
       "    .dataframe tbody tr th:only-of-type {\n",
       "        vertical-align: middle;\n",
       "    }\n",
       "\n",
       "    .dataframe tbody tr th {\n",
       "        vertical-align: top;\n",
       "    }\n",
       "\n",
       "    .dataframe thead th {\n",
       "        text-align: right;\n",
       "    }\n",
       "</style>\n",
       "<table border=\"1\" class=\"dataframe\">\n",
       "  <thead>\n",
       "    <tr style=\"text-align: right;\">\n",
       "      <th></th>\n",
       "      <th>precision</th>\n",
       "      <th>recall</th>\n",
       "    </tr>\n",
       "  </thead>\n",
       "  <tbody>\n",
       "    <tr>\n",
       "      <th>0</th>\n",
       "      <td>0.735209</td>\n",
       "      <td>0.901308</td>\n",
       "    </tr>\n",
       "    <tr>\n",
       "      <th>1</th>\n",
       "      <td>0.541436</td>\n",
       "      <td>0.264151</td>\n",
       "    </tr>\n",
       "    <tr>\n",
       "      <th>accuracy</th>\n",
       "      <td>0.706271</td>\n",
       "      <td>0.706271</td>\n",
       "    </tr>\n",
       "  </tbody>\n",
       "</table>\n",
       "</div>"
      ],
      "text/plain": [
       "          precision    recall\n",
       "0          0.735209  0.901308\n",
       "1          0.541436  0.264151\n",
       "accuracy   0.706271  0.706271"
      ]
     },
     "metadata": {},
     "output_type": "display_data"
    },
    {
     "name": "stdout",
     "output_type": "stream",
     "text": [
      "SVM SVC with TFIDF Vectorizer\n"
     ]
    },
    {
     "data": {
      "text/html": [
       "<div>\n",
       "<style scoped>\n",
       "    .dataframe tbody tr th:only-of-type {\n",
       "        vertical-align: middle;\n",
       "    }\n",
       "\n",
       "    .dataframe tbody tr th {\n",
       "        vertical-align: top;\n",
       "    }\n",
       "\n",
       "    .dataframe thead th {\n",
       "        text-align: right;\n",
       "    }\n",
       "</style>\n",
       "<table border=\"1\" class=\"dataframe\">\n",
       "  <thead>\n",
       "    <tr style=\"text-align: right;\">\n",
       "      <th></th>\n",
       "      <th>precision</th>\n",
       "      <th>recall</th>\n",
       "    </tr>\n",
       "  </thead>\n",
       "  <tbody>\n",
       "    <tr>\n",
       "      <th>0</th>\n",
       "      <td>0.727848</td>\n",
       "      <td>0.957194</td>\n",
       "    </tr>\n",
       "    <tr>\n",
       "      <th>1</th>\n",
       "      <td>0.660377</td>\n",
       "      <td>0.188679</td>\n",
       "    </tr>\n",
       "    <tr>\n",
       "      <th>accuracy</th>\n",
       "      <td>0.721947</td>\n",
       "      <td>0.721947</td>\n",
       "    </tr>\n",
       "  </tbody>\n",
       "</table>\n",
       "</div>"
      ],
      "text/plain": [
       "          precision    recall\n",
       "0          0.727848  0.957194\n",
       "1          0.660377  0.188679\n",
       "accuracy   0.721947  0.721947"
      ]
     },
     "metadata": {},
     "output_type": "display_data"
    },
    {
     "name": "stdout",
     "output_type": "stream",
     "text": [
      "Random Forest with Count Vectorizer\n"
     ]
    },
    {
     "data": {
      "text/html": [
       "<div>\n",
       "<style scoped>\n",
       "    .dataframe tbody tr th:only-of-type {\n",
       "        vertical-align: middle;\n",
       "    }\n",
       "\n",
       "    .dataframe tbody tr th {\n",
       "        vertical-align: top;\n",
       "    }\n",
       "\n",
       "    .dataframe thead th {\n",
       "        text-align: right;\n",
       "    }\n",
       "</style>\n",
       "<table border=\"1\" class=\"dataframe\">\n",
       "  <thead>\n",
       "    <tr style=\"text-align: right;\">\n",
       "      <th></th>\n",
       "      <th>precision</th>\n",
       "      <th>recall</th>\n",
       "    </tr>\n",
       "  </thead>\n",
       "  <tbody>\n",
       "    <tr>\n",
       "      <th>0</th>\n",
       "      <td>0.752000</td>\n",
       "      <td>0.894174</td>\n",
       "    </tr>\n",
       "    <tr>\n",
       "      <th>1</th>\n",
       "      <td>0.580189</td>\n",
       "      <td>0.331536</td>\n",
       "    </tr>\n",
       "    <tr>\n",
       "      <th>accuracy</th>\n",
       "      <td>0.721947</td>\n",
       "      <td>0.721947</td>\n",
       "    </tr>\n",
       "  </tbody>\n",
       "</table>\n",
       "</div>"
      ],
      "text/plain": [
       "          precision    recall\n",
       "0          0.752000  0.894174\n",
       "1          0.580189  0.331536\n",
       "accuracy   0.721947  0.721947"
      ]
     },
     "metadata": {},
     "output_type": "display_data"
    },
    {
     "name": "stdout",
     "output_type": "stream",
     "text": [
      "XGBoost with Count Vectorizer\n"
     ]
    },
    {
     "data": {
      "text/html": [
       "<div>\n",
       "<style scoped>\n",
       "    .dataframe tbody tr th:only-of-type {\n",
       "        vertical-align: middle;\n",
       "    }\n",
       "\n",
       "    .dataframe tbody tr th {\n",
       "        vertical-align: top;\n",
       "    }\n",
       "\n",
       "    .dataframe thead th {\n",
       "        text-align: right;\n",
       "    }\n",
       "</style>\n",
       "<table border=\"1\" class=\"dataframe\">\n",
       "  <thead>\n",
       "    <tr style=\"text-align: right;\">\n",
       "      <th></th>\n",
       "      <th>precision</th>\n",
       "      <th>recall</th>\n",
       "    </tr>\n",
       "  </thead>\n",
       "  <tbody>\n",
       "    <tr>\n",
       "      <th>0</th>\n",
       "      <td>0.743363</td>\n",
       "      <td>0.898930</td>\n",
       "    </tr>\n",
       "    <tr>\n",
       "      <th>1</th>\n",
       "      <td>0.564103</td>\n",
       "      <td>0.296496</td>\n",
       "    </tr>\n",
       "    <tr>\n",
       "      <th>accuracy</th>\n",
       "      <td>0.714521</td>\n",
       "      <td>0.714521</td>\n",
       "    </tr>\n",
       "  </tbody>\n",
       "</table>\n",
       "</div>"
      ],
      "text/plain": [
       "          precision    recall\n",
       "0          0.743363  0.898930\n",
       "1          0.564103  0.296496\n",
       "accuracy   0.714521  0.714521"
      ]
     },
     "metadata": {},
     "output_type": "display_data"
    },
    {
     "name": "stdout",
     "output_type": "stream",
     "text": [
      "XGBoost with TFIDF Vectorizer\n"
     ]
    }
   ],
   "source": [
    "display(cvlr_class_report[['precision','recall']][:3])\n",
    "print('Logistic Regression with Count Vectorizer')\n",
    "\n",
    "display(tvlr_class_report[['precision','recall']][:3])\n",
    "print('Logistic Regression with TFIDF Vectorizer')\n",
    "\n",
    "display(cvnb_class_report[['precision','recall']][:3])\n",
    "print('Naive Bayes (Multinomial) with Count Vectorizer')\n",
    "\n",
    "display(tvnb_class_report[['precision','recall']][:3])\n",
    "print('Naive Bayes (Multinomial) with TFIDF Vectorizer')\n",
    "\n",
    "display(cvcnb_class_report[['precision','recall']][:3])\n",
    "print('Naive Bayes (Complement) with Count Vectorizer')\n",
    "\n",
    "display(tvcnb_class_report[['precision','recall']][:3])\n",
    "print('Naive Bayes (Complement) with TFIDF Vectorizer')\n",
    "\n",
    "display(cvsvc_class_report[['precision','recall']][:3])\n",
    "print('SVM SVC with Count Vectorizer')\n",
    "\n",
    "display(tvsvc_class_report[['precision','recall']][:3])\n",
    "print('SVM SVC with TFIDF Vectorizer')\n",
    "\n",
    "display(cxgb_class_report[['precision','recall']][:3])\n",
    "print('XGBoost with Count Vectorizer')\n",
    "\n",
    "display(txgb_class_report[['precision','recall']][:3])\n",
    "print('XGBoost with TFIDF Vectorizer')"
   ]
  },
  {
   "cell_type": "markdown",
   "metadata": {},
   "source": [
    "### Based on the precision and recall scores, the top 4 models are:\n",
    "- Logistic regression with Count Vectorizer\n",
    "- Naive Bayes (Multinomial) with Count Vectorizer\n",
    "- Naive Bayes (Complement) with Count Vectorizer & TFIDF Vectorizer   \n",
    "**We will take a look at their confusion matrix to futher determine which is the best model**"
   ]
  },
  {
   "cell_type": "code",
   "execution_count": 196,
   "metadata": {},
   "outputs": [
    {
     "name": "stdout",
     "output_type": "stream",
     "text": [
      "Logistic regression with Count Vectorizer\n",
      "True Negatives: 676\n",
      "False Negatives: 165\n",
      "False Positives: 211\n",
      "True Positives: 160\n"
     ]
    },
    {
     "data": {
      "text/html": [
       "<div>\n",
       "<style scoped>\n",
       "    .dataframe tbody tr th:only-of-type {\n",
       "        vertical-align: middle;\n",
       "    }\n",
       "\n",
       "    .dataframe tbody tr th {\n",
       "        vertical-align: top;\n",
       "    }\n",
       "\n",
       "    .dataframe thead th {\n",
       "        text-align: right;\n",
       "    }\n",
       "</style>\n",
       "<table border=\"1\" class=\"dataframe\">\n",
       "  <thead>\n",
       "    <tr style=\"text-align: right;\">\n",
       "      <th></th>\n",
       "      <th>Predicted Negative</th>\n",
       "      <th>Predicted Positive</th>\n",
       "    </tr>\n",
       "  </thead>\n",
       "  <tbody>\n",
       "    <tr>\n",
       "      <th>Actual Negative</th>\n",
       "      <td>676</td>\n",
       "      <td>211</td>\n",
       "    </tr>\n",
       "    <tr>\n",
       "      <th>Actual Positive</th>\n",
       "      <td>165</td>\n",
       "      <td>160</td>\n",
       "    </tr>\n",
       "  </tbody>\n",
       "</table>\n",
       "</div>"
      ],
      "text/plain": [
       "                Predicted Negative Predicted Positive\n",
       "Actual Negative                676                211\n",
       "Actual Positive                165                160"
      ]
     },
     "metadata": {},
     "output_type": "display_data"
    },
    {
     "name": "stdout",
     "output_type": "stream",
     "text": [
      "   \n",
      "Naive Bayes (Multinomial) with Count Vectorizer\n",
      "True Negatives: 661\n",
      "False Negatives: 180\n",
      "False Positives: 186\n",
      "True Positives: 185\n"
     ]
    },
    {
     "data": {
      "text/html": [
       "<div>\n",
       "<style scoped>\n",
       "    .dataframe tbody tr th:only-of-type {\n",
       "        vertical-align: middle;\n",
       "    }\n",
       "\n",
       "    .dataframe tbody tr th {\n",
       "        vertical-align: top;\n",
       "    }\n",
       "\n",
       "    .dataframe thead th {\n",
       "        text-align: right;\n",
       "    }\n",
       "</style>\n",
       "<table border=\"1\" class=\"dataframe\">\n",
       "  <thead>\n",
       "    <tr style=\"text-align: right;\">\n",
       "      <th></th>\n",
       "      <th>Predicted Negative</th>\n",
       "      <th>Predicted Positive</th>\n",
       "    </tr>\n",
       "  </thead>\n",
       "  <tbody>\n",
       "    <tr>\n",
       "      <th>Actual Negative</th>\n",
       "      <td>661</td>\n",
       "      <td>186</td>\n",
       "    </tr>\n",
       "    <tr>\n",
       "      <th>Actual Positive</th>\n",
       "      <td>180</td>\n",
       "      <td>185</td>\n",
       "    </tr>\n",
       "  </tbody>\n",
       "</table>\n",
       "</div>"
      ],
      "text/plain": [
       "                Predicted Negative Predicted Positive\n",
       "Actual Negative                661                186\n",
       "Actual Positive                180                185"
      ]
     },
     "metadata": {},
     "output_type": "display_data"
    },
    {
     "name": "stdout",
     "output_type": "stream",
     "text": [
      "   \n",
      "Naive Bayes (Complement) with Count Vectorizer\n",
      "True Negatives: 615\n",
      "False Negatives: 226\n",
      "False Positives: 165\n",
      "True Positives: 206\n"
     ]
    },
    {
     "data": {
      "text/html": [
       "<div>\n",
       "<style scoped>\n",
       "    .dataframe tbody tr th:only-of-type {\n",
       "        vertical-align: middle;\n",
       "    }\n",
       "\n",
       "    .dataframe tbody tr th {\n",
       "        vertical-align: top;\n",
       "    }\n",
       "\n",
       "    .dataframe thead th {\n",
       "        text-align: right;\n",
       "    }\n",
       "</style>\n",
       "<table border=\"1\" class=\"dataframe\">\n",
       "  <thead>\n",
       "    <tr style=\"text-align: right;\">\n",
       "      <th></th>\n",
       "      <th>Predicted Negative</th>\n",
       "      <th>Predicted Positive</th>\n",
       "    </tr>\n",
       "  </thead>\n",
       "  <tbody>\n",
       "    <tr>\n",
       "      <th>Actual Negative</th>\n",
       "      <td>615</td>\n",
       "      <td>165</td>\n",
       "    </tr>\n",
       "    <tr>\n",
       "      <th>Actual Positive</th>\n",
       "      <td>226</td>\n",
       "      <td>206</td>\n",
       "    </tr>\n",
       "  </tbody>\n",
       "</table>\n",
       "</div>"
      ],
      "text/plain": [
       "                Predicted Negative Predicted Positive\n",
       "Actual Negative                615                165\n",
       "Actual Positive                226                206"
      ]
     },
     "metadata": {},
     "output_type": "display_data"
    },
    {
     "name": "stdout",
     "output_type": "stream",
     "text": [
      "   \n",
      "Naive Bayes (Complement) with TFIDF Vectorizer\n",
      "True Negatives: 590\n",
      "False Negatives: 251\n",
      "False Positives: 146\n",
      "True Positives: 225\n"
     ]
    },
    {
     "data": {
      "text/html": [
       "<div>\n",
       "<style scoped>\n",
       "    .dataframe tbody tr th:only-of-type {\n",
       "        vertical-align: middle;\n",
       "    }\n",
       "\n",
       "    .dataframe tbody tr th {\n",
       "        vertical-align: top;\n",
       "    }\n",
       "\n",
       "    .dataframe thead th {\n",
       "        text-align: right;\n",
       "    }\n",
       "</style>\n",
       "<table border=\"1\" class=\"dataframe\">\n",
       "  <thead>\n",
       "    <tr style=\"text-align: right;\">\n",
       "      <th></th>\n",
       "      <th>Predicted Negative</th>\n",
       "      <th>Predicted Positive</th>\n",
       "    </tr>\n",
       "  </thead>\n",
       "  <tbody>\n",
       "    <tr>\n",
       "      <th>Actual Negative</th>\n",
       "      <td>590</td>\n",
       "      <td>146</td>\n",
       "    </tr>\n",
       "    <tr>\n",
       "      <th>Actual Positive</th>\n",
       "      <td>251</td>\n",
       "      <td>225</td>\n",
       "    </tr>\n",
       "  </tbody>\n",
       "</table>\n",
       "</div>"
      ],
      "text/plain": [
       "                Predicted Negative Predicted Positive\n",
       "Actual Negative                590                146\n",
       "Actual Positive                251                225"
      ]
     },
     "metadata": {},
     "output_type": "display_data"
    }
   ],
   "source": [
    "print('Logistic regression with Count Vectorizer')\n",
    "display(confusion_table(y_one_test, y_one_predict_cv))\n",
    "print('   ')\n",
    "\n",
    "print('Naive Bayes (Multinomial) with Count Vectorizer')\n",
    "display(confusion_table(y_one_test, y_one_predict_cnb))\n",
    "print('   ')\n",
    "\n",
    "print('Naive Bayes (Complement) with Count Vectorizer')\n",
    "display(confusion_table(y_one_test, y_one_predict_ccnb))\n",
    "print('   ')\n",
    "\n",
    "print('Naive Bayes (Complement) with TFIDF Vectorizer')\n",
    "display(confusion_table(y_one_test, y_one_predict_tcnb))"
   ]
  },
  {
   "cell_type": "markdown",
   "metadata": {},
   "source": [
    "# Final model chosen : Naive Bayes (Multinomial) with Count Vectorizer"
   ]
  },
  {
   "cell_type": "markdown",
   "metadata": {},
   "source": [
    "#### This model was chosen as it has a better balance of both Positives and Negatives "
   ]
  },
  {
   "cell_type": "markdown",
   "metadata": {},
   "source": [
    "We will first do a gridsearch on the model (with the highest recall score) and then perform feature engineering (adding more features) to see if we can increase the scores"
   ]
  },
  {
   "cell_type": "code",
   "execution_count": 85,
   "metadata": {},
   "outputs": [],
   "source": [
    "final_pipe = Pipeline([\n",
    "    ('cvec', CountVectorizer()),\n",
    "    ('nb', MultinomialNB())\n",
    "])\n",
    "\n",
    "final_pipe_params = {\n",
    "    'cvec__max_features': [400, 500, 600, 700],\n",
    "    'cvec__min_df': [2, 3, 4 ,5],\n",
    "    'cvec__max_df': [0.85,.9, .95],\n",
    "    'cvec__ngram_range': [(1,1), (1,2)]\n",
    "}"
   ]
  },
  {
   "cell_type": "code",
   "execution_count": 86,
   "metadata": {},
   "outputs": [
    {
     "name": "stdout",
     "output_type": "stream",
     "text": [
      "Best params for recall_score\n",
      "{'cvec__max_df': 0.9, 'cvec__max_features': 700, 'cvec__min_df': 4, 'cvec__ngram_range': (1, 2)}\n",
      "\n",
      "Confusion matrix of Random Forest optimized for recall_score on the test data:\n",
      "               predicted negative  predicted positive\n",
      "true negative                 649                 192\n",
      "true positive                 182                 189\n"
     ]
    }
   ],
   "source": [
    "mnb_gs = grid_search_wrapper(final_pipe, final_pipe_params, refit_score='recall_score')"
   ]
  },
  {
   "cell_type": "code",
   "execution_count": 87,
   "metadata": {},
   "outputs": [],
   "source": [
    "results = pd.DataFrame(mnb_gs.cv_results_)\n",
    "results = results.sort_values(by='mean_test_precision_score', ascending=False)\n",
    "results = results[['mean_test_precision_score', 'mean_test_recall_score', 'mean_test_accuracy_score',  'param_cvec__max_df', 'param_cvec__max_features', 'param_cvec__min_df',\n",
    "       'param_cvec__ngram_range', 'params']].round(3)"
   ]
  },
  {
   "cell_type": "code",
   "execution_count": 88,
   "metadata": {
    "scrolled": false
   },
   "outputs": [
    {
     "data": {
      "text/html": [
       "<div>\n",
       "<style scoped>\n",
       "    .dataframe tbody tr th:only-of-type {\n",
       "        vertical-align: middle;\n",
       "    }\n",
       "\n",
       "    .dataframe tbody tr th {\n",
       "        vertical-align: top;\n",
       "    }\n",
       "\n",
       "    .dataframe thead th {\n",
       "        text-align: right;\n",
       "    }\n",
       "</style>\n",
       "<table border=\"1\" class=\"dataframe\">\n",
       "  <thead>\n",
       "    <tr style=\"text-align: right;\">\n",
       "      <th></th>\n",
       "      <th>mean_test_precision_score</th>\n",
       "      <th>mean_test_recall_score</th>\n",
       "      <th>mean_test_accuracy_score</th>\n",
       "      <th>param_cvec__max_df</th>\n",
       "      <th>param_cvec__max_features</th>\n",
       "      <th>param_cvec__min_df</th>\n",
       "      <th>param_cvec__ngram_range</th>\n",
       "      <th>params</th>\n",
       "    </tr>\n",
       "  </thead>\n",
       "  <tbody>\n",
       "    <tr>\n",
       "      <th>46</th>\n",
       "      <td>0.534</td>\n",
       "      <td>0.509</td>\n",
       "      <td>0.713</td>\n",
       "      <td>0.9</td>\n",
       "      <td>500</td>\n",
       "      <td>5</td>\n",
       "      <td>(1, 1)</td>\n",
       "      <td>{'cvec__max_df': 0.9, 'cvec__max_features': 50...</td>\n",
       "    </tr>\n",
       "    <tr>\n",
       "      <th>78</th>\n",
       "      <td>0.534</td>\n",
       "      <td>0.509</td>\n",
       "      <td>0.713</td>\n",
       "      <td>0.95</td>\n",
       "      <td>500</td>\n",
       "      <td>5</td>\n",
       "      <td>(1, 1)</td>\n",
       "      <td>{'cvec__max_df': 0.95, 'cvec__max_features': 5...</td>\n",
       "    </tr>\n",
       "    <tr>\n",
       "      <th>44</th>\n",
       "      <td>0.534</td>\n",
       "      <td>0.508</td>\n",
       "      <td>0.713</td>\n",
       "      <td>0.9</td>\n",
       "      <td>500</td>\n",
       "      <td>4</td>\n",
       "      <td>(1, 1)</td>\n",
       "      <td>{'cvec__max_df': 0.9, 'cvec__max_features': 50...</td>\n",
       "    </tr>\n",
       "    <tr>\n",
       "      <th>76</th>\n",
       "      <td>0.534</td>\n",
       "      <td>0.508</td>\n",
       "      <td>0.713</td>\n",
       "      <td>0.95</td>\n",
       "      <td>500</td>\n",
       "      <td>4</td>\n",
       "      <td>(1, 1)</td>\n",
       "      <td>{'cvec__max_df': 0.95, 'cvec__max_features': 5...</td>\n",
       "    </tr>\n",
       "    <tr>\n",
       "      <th>52</th>\n",
       "      <td>0.534</td>\n",
       "      <td>0.519</td>\n",
       "      <td>0.714</td>\n",
       "      <td>0.9</td>\n",
       "      <td>600</td>\n",
       "      <td>4</td>\n",
       "      <td>(1, 1)</td>\n",
       "      <td>{'cvec__max_df': 0.9, 'cvec__max_features': 60...</td>\n",
       "    </tr>\n",
       "  </tbody>\n",
       "</table>\n",
       "</div>"
      ],
      "text/plain": [
       "    mean_test_precision_score  mean_test_recall_score  \\\n",
       "46                      0.534                   0.509   \n",
       "78                      0.534                   0.509   \n",
       "44                      0.534                   0.508   \n",
       "76                      0.534                   0.508   \n",
       "52                      0.534                   0.519   \n",
       "\n",
       "    mean_test_accuracy_score param_cvec__max_df param_cvec__max_features  \\\n",
       "46                     0.713                0.9                      500   \n",
       "78                     0.713               0.95                      500   \n",
       "44                     0.713                0.9                      500   \n",
       "76                     0.713               0.95                      500   \n",
       "52                     0.714                0.9                      600   \n",
       "\n",
       "   param_cvec__min_df param_cvec__ngram_range  \\\n",
       "46                  5                  (1, 1)   \n",
       "78                  5                  (1, 1)   \n",
       "44                  4                  (1, 1)   \n",
       "76                  4                  (1, 1)   \n",
       "52                  4                  (1, 1)   \n",
       "\n",
       "                                               params  \n",
       "46  {'cvec__max_df': 0.9, 'cvec__max_features': 50...  \n",
       "78  {'cvec__max_df': 0.95, 'cvec__max_features': 5...  \n",
       "44  {'cvec__max_df': 0.9, 'cvec__max_features': 50...  \n",
       "76  {'cvec__max_df': 0.95, 'cvec__max_features': 5...  \n",
       "52  {'cvec__max_df': 0.9, 'cvec__max_features': 60...  "
      ]
     },
     "execution_count": 88,
     "metadata": {},
     "output_type": "execute_result"
    }
   ],
   "source": [
    "results.head(5)"
   ]
  },
  {
   "cell_type": "markdown",
   "metadata": {},
   "source": [
    "**Remove top 15 common words appearing in both spoiler and non-spoiler reviews with the function defined earlier**"
   ]
  },
  {
   "cell_type": "code",
   "execution_count": 134,
   "metadata": {
    "scrolled": true
   },
   "outputs": [
    {
     "data": {
      "text/plain": [
       "['movie',\n",
       " 'batman',\n",
       " 'joker',\n",
       " 'film',\n",
       " 'dark',\n",
       " 'ledger',\n",
       " 'knight',\n",
       " 'best',\n",
       " 'heath',\n",
       " 'just',\n",
       " 'good',\n",
       " 'like',\n",
       " 'great',\n",
       " 'nolan',\n",
       " 'time',\n",
       " 'performance',\n",
       " 'really',\n",
       " 'character',\n",
       " 'movies',\n",
       " 'bale',\n",
       " 'action',\n",
       " 'begins',\n",
       " 'dent',\n",
       " 'story',\n",
       " 'comic']"
      ]
     },
     "execution_count": 134,
     "metadata": {},
     "output_type": "execute_result"
    }
   ],
   "source": [
    "find_common_words(X_one['review'])   "
   ]
  },
  {
   "cell_type": "code",
   "execution_count": 135,
   "metadata": {
    "scrolled": true
   },
   "outputs": [],
   "source": [
    "from nltk.corpus import stopwords\n",
    "stopWords = stopwords.words('english')\n",
    "stopWords.extend(find_common_words(X_one['review']))"
   ]
  },
  {
   "cell_type": "code",
   "execution_count": 175,
   "metadata": {},
   "outputs": [],
   "source": [
    "final_cvec = CountVectorizer(stop_words=stopWords, max_df = 0.9, max_features = 700, \n",
    "                             min_df = 4, ngram_range = (1, 2))\n",
    "final_mnb = MultinomialNB()"
   ]
  },
  {
   "cell_type": "code",
   "execution_count": 176,
   "metadata": {},
   "outputs": [],
   "source": [
    "X_one_train_cvec = final_cvec.fit_transform(X_one_train_cleaned)\n",
    "X_one_test_cvec = final_cvec.transform(X_one_test_cleaned)"
   ]
  },
  {
   "cell_type": "code",
   "execution_count": 177,
   "metadata": {},
   "outputs": [
    {
     "data": {
      "text/plain": [
       "MultinomialNB(alpha=1.0, class_prior=None, fit_prior=True)"
      ]
     },
     "execution_count": 177,
     "metadata": {},
     "output_type": "execute_result"
    }
   ],
   "source": [
    "final_mnb.fit(X_one_train_cvec, y_one_train)"
   ]
  },
  {
   "cell_type": "code",
   "execution_count": 178,
   "metadata": {},
   "outputs": [
    {
     "name": "stdout",
     "output_type": "stream",
     "text": [
      "Train accuracy score: 73.2728%\n",
      "Test accuracy score: 69.4719%\n"
     ]
    }
   ],
   "source": [
    "print(f'Train accuracy score: {round(final_mnb.score(X_one_train_cvec, y_one_train)*100,4)}%')\n",
    "print(f'Test accuracy score: {round(final_mnb.score(X_one_test_cvec, y_one_test)*100,4)}%')"
   ]
  },
  {
   "cell_type": "code",
   "execution_count": 179,
   "metadata": {},
   "outputs": [],
   "source": [
    "final_y_pred = final_mnb.predict(X_one_test_cvec)"
   ]
  },
  {
   "cell_type": "code",
   "execution_count": 180,
   "metadata": {},
   "outputs": [
    {
     "name": "stdout",
     "output_type": "stream",
     "text": [
      "True Negatives: 657\n",
      "False Negatives: 184\n",
      "False Positives: 186\n",
      "True Positives: 185\n"
     ]
    },
    {
     "data": {
      "text/html": [
       "<div>\n",
       "<style scoped>\n",
       "    .dataframe tbody tr th:only-of-type {\n",
       "        vertical-align: middle;\n",
       "    }\n",
       "\n",
       "    .dataframe tbody tr th {\n",
       "        vertical-align: top;\n",
       "    }\n",
       "\n",
       "    .dataframe thead th {\n",
       "        text-align: right;\n",
       "    }\n",
       "</style>\n",
       "<table border=\"1\" class=\"dataframe\">\n",
       "  <thead>\n",
       "    <tr style=\"text-align: right;\">\n",
       "      <th></th>\n",
       "      <th>Predicted Negative</th>\n",
       "      <th>Predicted Positive</th>\n",
       "    </tr>\n",
       "  </thead>\n",
       "  <tbody>\n",
       "    <tr>\n",
       "      <th>Actual Negative</th>\n",
       "      <td>657</td>\n",
       "      <td>186</td>\n",
       "    </tr>\n",
       "    <tr>\n",
       "      <th>Actual Positive</th>\n",
       "      <td>184</td>\n",
       "      <td>185</td>\n",
       "    </tr>\n",
       "  </tbody>\n",
       "</table>\n",
       "</div>"
      ],
      "text/plain": [
       "                Predicted Negative Predicted Positive\n",
       "Actual Negative                657                186\n",
       "Actual Positive                184                185"
      ]
     },
     "execution_count": 180,
     "metadata": {},
     "output_type": "execute_result"
    }
   ],
   "source": [
    "confusion_table(y_one_test, final_y_pred)"
   ]
  },
  {
   "cell_type": "code",
   "execution_count": 181,
   "metadata": {
    "scrolled": false
   },
   "outputs": [
    {
     "data": {
      "text/html": [
       "<div>\n",
       "<style scoped>\n",
       "    .dataframe tbody tr th:only-of-type {\n",
       "        vertical-align: middle;\n",
       "    }\n",
       "\n",
       "    .dataframe tbody tr th {\n",
       "        vertical-align: top;\n",
       "    }\n",
       "\n",
       "    .dataframe thead th {\n",
       "        text-align: right;\n",
       "    }\n",
       "</style>\n",
       "<table border=\"1\" class=\"dataframe\">\n",
       "  <thead>\n",
       "    <tr style=\"text-align: right;\">\n",
       "      <th></th>\n",
       "      <th>precision</th>\n",
       "      <th>recall</th>\n",
       "    </tr>\n",
       "  </thead>\n",
       "  <tbody>\n",
       "    <tr>\n",
       "      <th>0</th>\n",
       "      <td>0.779359</td>\n",
       "      <td>0.781213</td>\n",
       "    </tr>\n",
       "    <tr>\n",
       "      <th>1</th>\n",
       "      <td>0.501355</td>\n",
       "      <td>0.498652</td>\n",
       "    </tr>\n",
       "    <tr>\n",
       "      <th>accuracy</th>\n",
       "      <td>0.694719</td>\n",
       "      <td>0.694719</td>\n",
       "    </tr>\n",
       "  </tbody>\n",
       "</table>\n",
       "</div>"
      ],
      "text/plain": [
       "          precision    recall\n",
       "0          0.779359  0.781213\n",
       "1          0.501355  0.498652\n",
       "accuracy   0.694719  0.694719"
      ]
     },
     "execution_count": 181,
     "metadata": {},
     "output_type": "execute_result"
    }
   ],
   "source": [
    "class_report(final_y_pred, y_one_test)[['precision','recall']][:3]"
   ]
  },
  {
   "cell_type": "code",
   "execution_count": 182,
   "metadata": {},
   "outputs": [],
   "source": [
    "df_ctrain = pd.DataFrame(X_one_train_cvec.todense(), columns=final_cvec.get_feature_names(), index=X_one_train.index)\n",
    "df_ctest =  pd.DataFrame(X_one_test_cvec.todense(), columns=final_cvec.get_feature_names(), index=X_one_test.index)"
   ]
  },
  {
   "cell_type": "markdown",
   "metadata": {},
   "source": [
    "### With cosine similarity on review with plot"
   ]
  },
  {
   "cell_type": "code",
   "execution_count": 144,
   "metadata": {},
   "outputs": [],
   "source": [
    "plot_cvec = final_cvec.transform(plot_cleaned)"
   ]
  },
  {
   "cell_type": "code",
   "execution_count": 145,
   "metadata": {},
   "outputs": [],
   "source": [
    "df_ctrain_cosine = pd.DataFrame(cosine_similarity(X_one_train_cvec, plot_cvec), columns=['cosine'], index=X_one_train.index)\n",
    "df_ctest_cosine = pd.DataFrame(cosine_similarity(X_one_test_cvec, plot_cvec), columns=['cosine'], index=X_one_test.index)"
   ]
  },
  {
   "cell_type": "code",
   "execution_count": 146,
   "metadata": {},
   "outputs": [],
   "source": [
    "df_ctrain_cosine['is_spoiler'] = y_one_train\n",
    "df_ctest_cosine['is_spoiler'] = y_one_test"
   ]
  },
  {
   "cell_type": "code",
   "execution_count": 210,
   "metadata": {},
   "outputs": [
    {
     "data": {
      "image/png": "[encoded data removed]",
      "text/plain": [
       "<Figure size 576x432 with 1 Axes>"
      ]
     },
     "metadata": {
      "needs_background": "light"
     },
     "output_type": "display_data"
    }
   ],
   "source": [
    "plt.figure(figsize = (8,6))\n",
    "plt.boxplot([df_ctrain_cosine[df_ctrain_cosine['is_spoiler'] == 1]['cosine'], df_ctrain_cosine[df_ctrain_cosine['is_spoiler'] == 0]['cosine']], labels=('spoiler','non_spoiler'));\n",
    "plt.title('Cosine Similarity for review vs plot (train data set)')\n",
    "plt.savefig('../imgs/cosine_similarity_for_train');"
   ]
  },
  {
   "cell_type": "code",
   "execution_count": 211,
   "metadata": {},
   "outputs": [
    {
     "data": {
      "image/png": "[encoded data removed]",
      "text/plain": [
       "<Figure size 576x432 with 1 Axes>"
      ]
     },
     "metadata": {
      "needs_background": "light"
     },
     "output_type": "display_data"
    }
   ],
   "source": [
    "plt.figure(figsize = (8,6))\n",
    "plt.boxplot([df_ctest_cosine[df_ctest_cosine['is_spoiler'] == 1]['cosine'], df_ctest_cosine[df_ctest_cosine['is_spoiler'] == 0]['cosine']], labels=('spoiler','non_spoiler'));\n",
    "plt.title('Cosine similarity for review vs plot (test dataset)')\n",
    "plt.savefig('../imgs/cosine_similarity_for_test');"
   ]
  },
  {
   "cell_type": "markdown",
   "metadata": {},
   "source": [
    "The overall cosine similarity for both train and test dataset seems to be higher for spoiler reviews."
   ]
  },
  {
   "cell_type": "code",
   "execution_count": 149,
   "metadata": {},
   "outputs": [],
   "source": [
    "df_ctrain['cosine'] = df_ctrain_cosine['cosine']\n",
    "df_ctest['cosine'] = df_ctest_cosine['cosine']"
   ]
  },
  {
   "cell_type": "code",
   "execution_count": 150,
   "metadata": {},
   "outputs": [
    {
     "data": {
      "text/plain": [
       "MultinomialNB(alpha=1.0, class_prior=None, fit_prior=True)"
      ]
     },
     "execution_count": 150,
     "metadata": {},
     "output_type": "execute_result"
    }
   ],
   "source": [
    "mnb = MultinomialNB()\n",
    "mnb.fit(df_ctrain, y_one_train)"
   ]
  },
  {
   "cell_type": "code",
   "execution_count": 151,
   "metadata": {},
   "outputs": [
    {
     "name": "stdout",
     "output_type": "stream",
     "text": [
      "Train accuracy score: 73.4379%\n",
      "Test accuracy score: 69.5545%\n"
     ]
    }
   ],
   "source": [
    "print(f'Train accuracy score: {round(mnb.score(df_ctrain, y_one_train)*100,4)}%')\n",
    "print(f'Test accuracy score: {round(mnb.score(df_ctest, y_one_test)*100,4)}%')"
   ]
  },
  {
   "cell_type": "code",
   "execution_count": 152,
   "metadata": {},
   "outputs": [],
   "source": [
    "cosine_pred = mnb.predict(df_ctest)"
   ]
  },
  {
   "cell_type": "code",
   "execution_count": 153,
   "metadata": {},
   "outputs": [
    {
     "name": "stdout",
     "output_type": "stream",
     "text": [
      "True Negatives: 658\n",
      "False Negatives: 183\n",
      "False Positives: 186\n",
      "True Positives: 185\n"
     ]
    },
    {
     "data": {
      "text/html": [
       "<div>\n",
       "<style scoped>\n",
       "    .dataframe tbody tr th:only-of-type {\n",
       "        vertical-align: middle;\n",
       "    }\n",
       "\n",
       "    .dataframe tbody tr th {\n",
       "        vertical-align: top;\n",
       "    }\n",
       "\n",
       "    .dataframe thead th {\n",
       "        text-align: right;\n",
       "    }\n",
       "</style>\n",
       "<table border=\"1\" class=\"dataframe\">\n",
       "  <thead>\n",
       "    <tr style=\"text-align: right;\">\n",
       "      <th></th>\n",
       "      <th>Predicted Negative</th>\n",
       "      <th>Predicted Positive</th>\n",
       "    </tr>\n",
       "  </thead>\n",
       "  <tbody>\n",
       "    <tr>\n",
       "      <th>Actual Negative</th>\n",
       "      <td>658</td>\n",
       "      <td>186</td>\n",
       "    </tr>\n",
       "    <tr>\n",
       "      <th>Actual Positive</th>\n",
       "      <td>183</td>\n",
       "      <td>185</td>\n",
       "    </tr>\n",
       "  </tbody>\n",
       "</table>\n",
       "</div>"
      ],
      "text/plain": [
       "                Predicted Negative Predicted Positive\n",
       "Actual Negative                658                186\n",
       "Actual Positive                183                185"
      ]
     },
     "execution_count": 153,
     "metadata": {},
     "output_type": "execute_result"
    }
   ],
   "source": [
    "confusion_table(y_one_test, cosine_pred)"
   ]
  },
  {
   "cell_type": "code",
   "execution_count": 154,
   "metadata": {},
   "outputs": [
    {
     "data": {
      "text/html": [
       "<div>\n",
       "<style scoped>\n",
       "    .dataframe tbody tr th:only-of-type {\n",
       "        vertical-align: middle;\n",
       "    }\n",
       "\n",
       "    .dataframe tbody tr th {\n",
       "        vertical-align: top;\n",
       "    }\n",
       "\n",
       "    .dataframe thead th {\n",
       "        text-align: right;\n",
       "    }\n",
       "</style>\n",
       "<table border=\"1\" class=\"dataframe\">\n",
       "  <thead>\n",
       "    <tr style=\"text-align: right;\">\n",
       "      <th></th>\n",
       "      <th>precision</th>\n",
       "      <th>recall</th>\n",
       "    </tr>\n",
       "  </thead>\n",
       "  <tbody>\n",
       "    <tr>\n",
       "      <th>0</th>\n",
       "      <td>0.779621</td>\n",
       "      <td>0.782402</td>\n",
       "    </tr>\n",
       "    <tr>\n",
       "      <th>1</th>\n",
       "      <td>0.502717</td>\n",
       "      <td>0.498652</td>\n",
       "    </tr>\n",
       "    <tr>\n",
       "      <th>accuracy</th>\n",
       "      <td>0.695545</td>\n",
       "      <td>0.695545</td>\n",
       "    </tr>\n",
       "  </tbody>\n",
       "</table>\n",
       "</div>"
      ],
      "text/plain": [
       "          precision    recall\n",
       "0          0.779621  0.782402\n",
       "1          0.502717  0.498652\n",
       "accuracy   0.695545  0.695545"
      ]
     },
     "execution_count": 154,
     "metadata": {},
     "output_type": "execute_result"
    }
   ],
   "source": [
    "class_report(cosine_pred, y_one_test)[['precision','recall']][:3]"
   ]
  },
  {
   "cell_type": "markdown",
   "metadata": {},
   "source": [
    "Adding cosine similarity does not seem to affect our predictions by much."
   ]
  },
  {
   "cell_type": "markdown",
   "metadata": {},
   "source": [
    "### Count Vectorizer on plot instead of reviews"
   ]
  },
  {
   "cell_type": "code",
   "execution_count": 155,
   "metadata": {},
   "outputs": [
    {
     "data": {
      "text/plain": [
       "3263"
      ]
     },
     "execution_count": 155,
     "metadata": {},
     "output_type": "execute_result"
    }
   ],
   "source": [
    "len(plot_cleaned[0].split(' '))"
   ]
  },
  {
   "cell_type": "code",
   "execution_count": 156,
   "metadata": {},
   "outputs": [],
   "source": [
    "plot_cvec = CountVectorizer(stop_words=stopWords, max_df = 1, max_features = 700, \n",
    "                             min_df = 1, ngram_range = (1, 2))\n",
    "plot_nmb = MultinomialNB()"
   ]
  },
  {
   "cell_type": "code",
   "execution_count": 157,
   "metadata": {},
   "outputs": [],
   "source": [
    "plot_pcvec = plot_cvec.fit_transform(plot_cleaned)\n",
    "X_one_train_pcvec = plot_cvec.transform(X_one_train_cleaned)\n",
    "X_one_test_pcvec = plot_cvec.transform(X_one_test_cleaned)\n"
   ]
  },
  {
   "cell_type": "code",
   "execution_count": 158,
   "metadata": {},
   "outputs": [],
   "source": [
    "X_one_train_pcvec_df = pd.DataFrame(X_one_train_pcvec.todense(), columns=plot_cvec.get_feature_names(), index=X_one_train.index)\n",
    "X_one_test_pcvec_df = pd.DataFrame(X_one_test_pcvec.todense(), columns=plot_cvec.get_feature_names(), index=X_one_test.index)"
   ]
  },
  {
   "cell_type": "code",
   "execution_count": 159,
   "metadata": {},
   "outputs": [],
   "source": [
    "df_ctrain_pcosine = pd.DataFrame(cosine_similarity(X_one_train_pcvec_df, plot_pcvec), columns=['cosine'], index=X_one_train.index)\n",
    "df_ctest_pcosine = pd.DataFrame(cosine_similarity(X_one_test_pcvec_df, plot_pcvec), columns=['cosine'], index=X_one_test.index)"
   ]
  },
  {
   "cell_type": "code",
   "execution_count": 160,
   "metadata": {},
   "outputs": [],
   "source": [
    "df_ctrain_pcosine['is_spoiler'] = y_one_train\n",
    "df_ctest_pcosine['is_spoiler'] = y_one_test"
   ]
  },
  {
   "cell_type": "code",
   "execution_count": 161,
   "metadata": {
    "scrolled": false
   },
   "outputs": [
    {
     "data": {
      "image/png": "[encoded data removed]",
      "text/plain": [
       "<Figure size 576x432 with 1 Axes>"
      ]
     },
     "metadata": {
      "needs_background": "light"
     },
     "output_type": "display_data"
    }
   ],
   "source": [
    "plt.figure(figsize = (8,6))\n",
    "plt.boxplot([df_ctrain_pcosine[df_ctrain_pcosine['is_spoiler'] == 1]['cosine'], df_ctrain_pcosine[df_ctrain_pcosine['is_spoiler'] == 0]['cosine']], labels=('spoiler','non_spoiler'));\n",
    "plt.title('Cosine Similarity for plot vs review (train data set)');"
   ]
  },
  {
   "cell_type": "code",
   "execution_count": 162,
   "metadata": {},
   "outputs": [
    {
     "data": {
      "image/png": "[encoded data removed]",
      "text/plain": [
       "<Figure size 576x432 with 1 Axes>"
      ]
     },
     "metadata": {
      "needs_background": "light"
     },
     "output_type": "display_data"
    }
   ],
   "source": [
    "plt.figure(figsize = (8,6))\n",
    "plt.boxplot([(df_ctest_pcosine[df_ctest_pcosine['is_spoiler'] == 1]['cosine']), df_ctest_pcosine[df_ctest_pcosine['is_spoiler'] == 0]['cosine']], labels=('spoiler','non_spoiler'));\n",
    "plt.title('Cosine Similarity for plot vs review (test data set)');"
   ]
  },
  {
   "cell_type": "markdown",
   "metadata": {},
   "source": [
    "Using movie as an estimate whether the review is a spoiler or not seems like a better option as we can see a distinct difference between the cosine similarities"
   ]
  },
  {
   "cell_type": "code",
   "execution_count": 200,
   "metadata": {},
   "outputs": [],
   "source": [
    "X_one_train_pcvec_df['cosine'] = df_ctrain_pcosine['cosine']\n",
    "X_one_test_pcvec_df['cosine'] = df_ctest_pcosine['cosine']"
   ]
  },
  {
   "cell_type": "code",
   "execution_count": 201,
   "metadata": {},
   "outputs": [
    {
     "data": {
      "text/plain": [
       "MultinomialNB(alpha=1.0, class_prior=None, fit_prior=True)"
      ]
     },
     "execution_count": 201,
     "metadata": {},
     "output_type": "execute_result"
    }
   ],
   "source": [
    "plot_nmb.fit(X_one_train_pcvec_df, y_one_train)"
   ]
  },
  {
   "cell_type": "code",
   "execution_count": 202,
   "metadata": {},
   "outputs": [
    {
     "data": {
      "text/plain": [
       "0.7533718689788054"
      ]
     },
     "execution_count": 202,
     "metadata": {},
     "output_type": "execute_result"
    }
   ],
   "source": [
    "plot_nmb.score(X_one_train_pcvec_df, y_one_train)"
   ]
  },
  {
   "cell_type": "code",
   "execution_count": 203,
   "metadata": {},
   "outputs": [
    {
     "data": {
      "text/plain": [
       "0.6971947194719472"
      ]
     },
     "execution_count": 203,
     "metadata": {},
     "output_type": "execute_result"
    }
   ],
   "source": [
    "plot_nmb.score(X_one_test_pcvec_df, y_one_test)"
   ]
  },
  {
   "cell_type": "code",
   "execution_count": 204,
   "metadata": {},
   "outputs": [],
   "source": [
    "plot_pred = plot_nmb.predict(X_one_test_pcvec_df)"
   ]
  },
  {
   "cell_type": "code",
   "execution_count": 205,
   "metadata": {
    "scrolled": false
   },
   "outputs": [
    {
     "name": "stdout",
     "output_type": "stream",
     "text": [
      "True Negatives: 706\n",
      "False Negatives: 135\n",
      "False Positives: 232\n",
      "True Positives: 139\n"
     ]
    },
    {
     "data": {
      "text/html": [
       "<div>\n",
       "<style scoped>\n",
       "    .dataframe tbody tr th:only-of-type {\n",
       "        vertical-align: middle;\n",
       "    }\n",
       "\n",
       "    .dataframe tbody tr th {\n",
       "        vertical-align: top;\n",
       "    }\n",
       "\n",
       "    .dataframe thead th {\n",
       "        text-align: right;\n",
       "    }\n",
       "</style>\n",
       "<table border=\"1\" class=\"dataframe\">\n",
       "  <thead>\n",
       "    <tr style=\"text-align: right;\">\n",
       "      <th></th>\n",
       "      <th>Predicted Negative</th>\n",
       "      <th>Predicted Positive</th>\n",
       "    </tr>\n",
       "  </thead>\n",
       "  <tbody>\n",
       "    <tr>\n",
       "      <th>Actual Negative</th>\n",
       "      <td>706</td>\n",
       "      <td>232</td>\n",
       "    </tr>\n",
       "    <tr>\n",
       "      <th>Actual Positive</th>\n",
       "      <td>135</td>\n",
       "      <td>139</td>\n",
       "    </tr>\n",
       "  </tbody>\n",
       "</table>\n",
       "</div>"
      ],
      "text/plain": [
       "                Predicted Negative Predicted Positive\n",
       "Actual Negative                706                232\n",
       "Actual Positive                135                139"
      ]
     },
     "execution_count": 205,
     "metadata": {},
     "output_type": "execute_result"
    }
   ],
   "source": [
    "confusion_table(y_one_test, plot_pred)"
   ]
  },
  {
   "cell_type": "markdown",
   "metadata": {},
   "source": [
    "Our results for predicting positives has decreased, we will not use cosine similarity on plot vs review as one our features."
   ]
  },
  {
   "cell_type": "markdown",
   "metadata": {},
   "source": [
    "### Predict proba graph and words affecting the review on being a spoiler or not"
   ]
  },
  {
   "cell_type": "code",
   "execution_count": 208,
   "metadata": {},
   "outputs": [],
   "source": [
    "pred_proba = [i[1] for i in final_mnb.predict_proba(df_ctest)]\n",
    "pred_df = pd.DataFrame({'true_values': y_one_test,'pred_probs':pred_proba})"
   ]
  },
  {
   "cell_type": "code",
   "execution_count": 209,
   "metadata": {
    "scrolled": false
   },
   "outputs": [
    {
     "data": {
      "image/png": "[encoded data removed]",
      "text/plain": [
       "<Figure size 720x576 with 1 Axes>"
      ]
     },
     "metadata": {
      "needs_background": "light"
     },
     "output_type": "display_data"
    }
   ],
   "source": [
    "plt.figure(figsize = (10,8))\n",
    "\n",
    "plt.hist(pred_df[pred_df['true_values'] == 0]['pred_probs'],\n",
    "         bins=25,\n",
    "         color='b',\n",
    "         alpha = 0.6,\n",
    "         label='Outcome = 0')\n",
    "plt.hist(pred_df[pred_df['true_values'] == 1]['pred_probs'],\n",
    "         bins=25,\n",
    "         color='orange',\n",
    "         alpha = 0.6,\n",
    "         label='Outcome = 1')\n",
    "\n",
    "plt.vlines(x=0.5, ymin = 0, ymax = 65, color='r', linestyle = '--')\n",
    "\n",
    "plt.title('Distribution', fontsize=15)\n",
    "plt.ylabel('Frequency', fontsize=15)\n",
    "plt.xlabel('Predicted Probability', fontsize=18)\n",
    "\n",
    "plt.legend(fontsize=15);"
   ]
  },
  {
   "cell_type": "code",
   "execution_count": 185,
   "metadata": {
    "scrolled": true
   },
   "outputs": [
    {
     "data": {
      "text/html": [
       "<div>\n",
       "<style scoped>\n",
       "    .dataframe tbody tr th:only-of-type {\n",
       "        vertical-align: middle;\n",
       "    }\n",
       "\n",
       "    .dataframe tbody tr th {\n",
       "        vertical-align: top;\n",
       "    }\n",
       "\n",
       "    .dataframe thead th {\n",
       "        text-align: right;\n",
       "    }\n",
       "</style>\n",
       "<table border=\"1\" class=\"dataframe\">\n",
       "  <thead>\n",
       "    <tr style=\"text-align: right;\">\n",
       "      <th></th>\n",
       "      <th>0</th>\n",
       "    </tr>\n",
       "  </thead>\n",
       "  <tbody>\n",
       "    <tr>\n",
       "      <th>describe</th>\n",
       "      <td>-8.045794</td>\n",
       "    </tr>\n",
       "    <tr>\n",
       "      <th>academy</th>\n",
       "      <td>-8.010703</td>\n",
       "    </tr>\n",
       "    <tr>\n",
       "      <th>cinematic</th>\n",
       "      <td>-8.010703</td>\n",
       "    </tr>\n",
       "    <tr>\n",
       "      <th>changed</th>\n",
       "      <td>-7.976801</td>\n",
       "    </tr>\n",
       "    <tr>\n",
       "      <th>screenplay</th>\n",
       "      <td>-7.912263</td>\n",
       "    </tr>\n",
       "    <tr>\n",
       "      <th>...</th>\n",
       "      <td>...</td>\n",
       "    </tr>\n",
       "    <tr>\n",
       "      <th>gotham</th>\n",
       "      <td>-4.763273</td>\n",
       "    </tr>\n",
       "    <tr>\n",
       "      <th>harvey</th>\n",
       "      <td>-4.712315</td>\n",
       "    </tr>\n",
       "    <tr>\n",
       "      <th>people</th>\n",
       "      <td>-4.707232</td>\n",
       "    </tr>\n",
       "    <tr>\n",
       "      <th>scene</th>\n",
       "      <td>-4.596941</td>\n",
       "    </tr>\n",
       "    <tr>\n",
       "      <th>face</th>\n",
       "      <td>-4.557982</td>\n",
       "    </tr>\n",
       "  </tbody>\n",
       "</table>\n",
       "<p>700 rows × 1 columns</p>\n",
       "</div>"
      ],
      "text/plain": [
       "                   0\n",
       "describe   -8.045794\n",
       "academy    -8.010703\n",
       "cinematic  -8.010703\n",
       "changed    -7.976801\n",
       "screenplay -7.912263\n",
       "...              ...\n",
       "gotham     -4.763273\n",
       "harvey     -4.712315\n",
       "people     -4.707232\n",
       "scene      -4.596941\n",
       "face       -4.557982\n",
       "\n",
       "[700 rows x 1 columns]"
      ]
     },
     "execution_count": 185,
     "metadata": {},
     "output_type": "execute_result"
    }
   ],
   "source": [
    "columns=final_cvec.get_feature_names()\n",
    "final_mnb_coef = pd.DataFrame(final_mnb.coef_, columns = columns)\n",
    "df_coef = final_mnb_coef.T.sort_values(by = 0, ascending = True)\n",
    "df_coef\n"
   ]
  },
  {
   "cell_type": "code",
   "execution_count": 197,
   "metadata": {
    "scrolled": false
   },
   "outputs": [
    {
     "data": {
      "image/png": "[encoded data removed]",
      "text/plain": [
       "<Figure size 720x576 with 1 Axes>"
      ]
     },
     "metadata": {
      "needs_background": "light"
     },
     "output_type": "display_data"
    }
   ],
   "source": [
    "df_coef.head(20).plot(kind='barh', legend=False, figsize=(10,8))\n",
    "plt.title('Top 20 words of a review not being a spoiler')\n",
    "plt.savefig(\"../imgs/Top 20 words of a review not being a spoiler.png\", format=\"png\");"
   ]
  },
  {
   "cell_type": "code",
   "execution_count": 198,
   "metadata": {
    "scrolled": false
   },
   "outputs": [
    {
     "data": {
      "image/png": "[encoded data removed]",
      "text/plain": [
       "<Figure size 720x576 with 1 Axes>"
      ]
     },
     "metadata": {
      "needs_background": "light"
     },
     "output_type": "display_data"
    }
   ],
   "source": [
    "df_coef.tail(20).plot(kind='barh', legend=False, figsize=(10,8))\n",
    "plt.title('Top 20 words of a review being spoiler')\n",
    "plt.savefig(\"../imgs/Top 20 words of a review being a spoiler.png\", format=\"png\");"
   ]
  },
  {
   "cell_type": "markdown",
   "metadata": {},
   "source": [
    "### Looking at the wrongly classified reviews "
   ]
  },
  {
   "cell_type": "code",
   "execution_count": 188,
   "metadata": {},
   "outputs": [],
   "source": [
    "pred_df = pd.DataFrame(final_y_pred, columns=['predictions'], index=y_one_test.index)\n",
    "y_one_test_df = pd.DataFrame(y_one_test.values, columns=['true_y_values'], index=y_one_test.index)"
   ]
  },
  {
   "cell_type": "code",
   "execution_count": 189,
   "metadata": {
    "scrolled": true
   },
   "outputs": [],
   "source": [
    "comparison_df = pd.merge(y_one_test_df,pred_df, on=y_one_test_df.index)\n",
    "comparison_df.drop(columns='key_0', inplace=True)\n",
    "comparison_df.set_index(X_one_test.index, inplace=True)"
   ]
  },
  {
   "cell_type": "code",
   "execution_count": 190,
   "metadata": {},
   "outputs": [
    {
     "data": {
      "text/html": [
       "<div>\n",
       "<style scoped>\n",
       "    .dataframe tbody tr th:only-of-type {\n",
       "        vertical-align: middle;\n",
       "    }\n",
       "\n",
       "    .dataframe tbody tr th {\n",
       "        vertical-align: top;\n",
       "    }\n",
       "\n",
       "    .dataframe thead th {\n",
       "        text-align: right;\n",
       "    }\n",
       "</style>\n",
       "<table border=\"1\" class=\"dataframe\">\n",
       "  <thead>\n",
       "    <tr style=\"text-align: right;\">\n",
       "      <th></th>\n",
       "      <th>true_y_values</th>\n",
       "      <th>predictions</th>\n",
       "    </tr>\n",
       "  </thead>\n",
       "  <tbody>\n",
       "    <tr>\n",
       "      <th>485</th>\n",
       "      <td>1</td>\n",
       "      <td>0</td>\n",
       "    </tr>\n",
       "    <tr>\n",
       "      <th>552</th>\n",
       "      <td>1</td>\n",
       "      <td>0</td>\n",
       "    </tr>\n",
       "    <tr>\n",
       "      <th>115</th>\n",
       "      <td>1</td>\n",
       "      <td>0</td>\n",
       "    </tr>\n",
       "    <tr>\n",
       "      <th>1675</th>\n",
       "      <td>0</td>\n",
       "      <td>1</td>\n",
       "    </tr>\n",
       "    <tr>\n",
       "      <th>1509</th>\n",
       "      <td>0</td>\n",
       "      <td>1</td>\n",
       "    </tr>\n",
       "    <tr>\n",
       "      <th>...</th>\n",
       "      <td>...</td>\n",
       "      <td>...</td>\n",
       "    </tr>\n",
       "    <tr>\n",
       "      <th>184</th>\n",
       "      <td>1</td>\n",
       "      <td>0</td>\n",
       "    </tr>\n",
       "    <tr>\n",
       "      <th>1357</th>\n",
       "      <td>1</td>\n",
       "      <td>0</td>\n",
       "    </tr>\n",
       "    <tr>\n",
       "      <th>934</th>\n",
       "      <td>1</td>\n",
       "      <td>0</td>\n",
       "    </tr>\n",
       "    <tr>\n",
       "      <th>1333</th>\n",
       "      <td>1</td>\n",
       "      <td>0</td>\n",
       "    </tr>\n",
       "    <tr>\n",
       "      <th>599</th>\n",
       "      <td>1</td>\n",
       "      <td>0</td>\n",
       "    </tr>\n",
       "  </tbody>\n",
       "</table>\n",
       "<p>370 rows × 2 columns</p>\n",
       "</div>"
      ],
      "text/plain": [
       "      true_y_values  predictions\n",
       "485               1            0\n",
       "552               1            0\n",
       "115               1            0\n",
       "1675              0            1\n",
       "1509              0            1\n",
       "...             ...          ...\n",
       "184               1            0\n",
       "1357              1            0\n",
       "934               1            0\n",
       "1333              1            0\n",
       "599               1            0\n",
       "\n",
       "[370 rows x 2 columns]"
      ]
     },
     "execution_count": 190,
     "metadata": {},
     "output_type": "execute_result"
    }
   ],
   "source": [
    "comparison_df[comparison_df['true_y_values'] != comparison_df['predictions']]"
   ]
  },
  {
   "cell_type": "code",
   "execution_count": 191,
   "metadata": {
    "scrolled": true
   },
   "outputs": [
    {
     "data": {
      "text/plain": [
       "'Epic!\"Dark Knight\", from start to the finish, captures you and takes you into the movie. Chris Nolan has done a fantastic job, and this movie has to go down in the history books and the best superhero movie EVER!!! As for the actors, Christian Bale is spectacular. He\\'s the perfect man for the perfect role-Batman. He fits into the role so well. Michael Caine, a charismatic, classy and charming butler who is as much a butler as a mentor and guardian to a young man desperate for a path to pursue to save the people he loves. Caine is tremendously good. Morgan Freeman, as always, terrific. His version of James Bond\\'s Q is much more realistic and captivating.The real star of the show, as everyone\\'s been saying, is of course the late Heath Ledger. He\\'s just excellent! The scene with the pencil trick is awesome, i never expected it and it hit me with a BANG!! it\\'s impossible to be that good, but he\\'s proved it\\'s not. He\\'s taken villainy to a whole new level. It\\'s such a tragedy that he has died. I think he could\\'ve been as good as the legendary Marlon Brando and Co. Aaron Eckhart is good throughout the film and he\\'s given a good all-round performance. i hoped that Harvey Dent\\'s fate would be different because they didn\\'t need to introduce another villain in this movie. The Joker is more than enough of a villain for this film. The cinematography is exemplary and deserves many rounds of applause. This movie was definitely the best movie of 2008, not even close.'"
      ]
     },
     "execution_count": 191,
     "metadata": {},
     "output_type": "execute_result"
    }
   ],
   "source": [
    "X_one['review'][1049]"
   ]
  },
  {
   "cell_type": "markdown",
   "metadata": {},
   "source": [
    "### Conclusion\n",
    "- Our final model - Naive Bayes (Multinomial) with Count Vectorizer has **69.4719%** accuracy with **50.1355%** in precision and **49.8652%** in recall.\n",
    "- What contributed to the score not exceeding 70% could be because some of the reviews which are originally spoilers might not seem like a spoiler after reading, they were hard to determine why they were misclassified as what constitutes a spoiler is inherently a subjective assessment.\n",
    " "
   ]
  },
  {
   "cell_type": "markdown",
   "metadata": {},
   "source": [
    "### Recommendations and further analysis:\n",
    "- Deep learning algorithms like Dependency Parsing will be performed on the model to improve on the accuracy, sensitivity and specificity, as it recognizes a sentence and assigning a syntactic structure to it. \n",
    "- Understanding IMDB's algorithm in detecting spoiler reviews and how they work.\n",
    "- Dataset need to be more comprehensive, further research should be done - each sentence with spoiler/ non-spoiler tag.\n",
    "- Also users interpret spoiler & non-spoiler reviews differently, we can do a further analysis on each user's writing behaviour and if certain users leave more spoilers than others."
   ]
  },
  {
   "cell_type": "code",
   "execution_count": null,
   "metadata": {},
   "outputs": [],
   "source": []
  }
 ],
 "metadata": {
  "kernelspec": {
   "display_name": "Python 3",
   "language": "python",
   "name": "python3"
  },
  "language_info": {
   "codemirror_mode": {
    "name": "ipython",
    "version": 3
   },
   "file_extension": ".py",
   "mimetype": "text/x-python",
   "name": "python",
   "nbconvert_exporter": "python",
   "pygments_lexer": "ipython3",
   "version": "3.7.3"
  }
 },
 "nbformat": 4,
 "nbformat_minor": 2
}
